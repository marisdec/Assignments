{
 "cells": [
  {
   "cell_type": "code",
   "execution_count": 6,
   "id": "e0b831f2",
   "metadata": {},
   "outputs": [
    {
     "ename": "ModuleNotFoundError",
     "evalue": "No module named 'bioinfokit'",
     "output_type": "error",
     "traceback": [
      "\u001b[1;31m---------------------------------------------------------------------------\u001b[0m",
      "\u001b[1;31mModuleNotFoundError\u001b[0m                       Traceback (most recent call last)",
      "\u001b[1;32mC:\\Users\\MARIAP~1\\AppData\\Local\\Temp/ipykernel_19616/1919920274.py\u001b[0m in \u001b[0;36m<module>\u001b[1;34m\u001b[0m\n\u001b[0;32m     10\u001b[0m \u001b[1;32mimport\u001b[0m \u001b[0mscipy\u001b[0m\u001b[1;33m.\u001b[0m\u001b[0mstats\u001b[0m \u001b[1;32mas\u001b[0m \u001b[0mstats\u001b[0m\u001b[1;33m\u001b[0m\u001b[1;33m\u001b[0m\u001b[0m\n\u001b[0;32m     11\u001b[0m \u001b[1;31m#from bioinfokit.analys import stat\u001b[0m\u001b[1;33m\u001b[0m\u001b[1;33m\u001b[0m\u001b[0m\n\u001b[1;32m---> 12\u001b[1;33m \u001b[1;32mimport\u001b[0m \u001b[0mbioinfokit\u001b[0m\u001b[1;33m\u001b[0m\u001b[1;33m\u001b[0m\u001b[0m\n\u001b[0m",
      "\u001b[1;31mModuleNotFoundError\u001b[0m: No module named 'bioinfokit'"
     ]
    }
   ],
   "source": [
    "import numpy as np # linear algebra\n",
    "import pandas as pd # data processing, CSV file I/O (e.g. pd.read_csv)\n",
    "import matplotlib.pyplot as plt\n",
    "import seaborn as sns\n",
    "import statistics\n",
    "%matplotlib inline\n",
    "import plotly.graph_objects as go\n",
    "import statsmodels.api as sm\n",
    "import pylab as py\n",
    "import scipy.stats as stats\n",
    "#from bioinfokit.analys import stat"
   ]
  },
  {
   "cell_type": "code",
   "execution_count": 4,
   "id": "41627ccc",
   "metadata": {},
   "outputs": [],
   "source": [
    "data = pd.read_excel('ASM-Assignment.xlsx')"
   ]
  },
  {
   "cell_type": "code",
   "execution_count": 197,
   "id": "2c3b67a4",
   "metadata": {},
   "outputs": [
    {
     "data": {
      "text/html": [
       "<div><div id=e6ad5450-524d-4085-a772-fef0ceb2a0b6 style=\"display:none; background-color:#9D6CFF; color:white; width:200px; height:30px; padding-left:5px; border-radius:4px; flex-direction:row; justify-content:space-around; align-items:center;\" onmouseover=\"this.style.backgroundColor='#BA9BF8'\" onmouseout=\"this.style.backgroundColor='#9D6CFF'\" onclick=\"window.commands?.execute('create-mitosheet-from-dataframe-output');\">See Full Dataframe in Mito</div> <script> if (window.commands?.hasCommand('create-mitosheet-from-dataframe-output')) document.getElementById('e6ad5450-524d-4085-a772-fef0ceb2a0b6').style.display = 'flex' </script> <table border=\"1\" class=\"dataframe\">\n",
       "  <thead>\n",
       "    <tr style=\"text-align: right;\">\n",
       "      <th></th>\n",
       "      <th>No</th>\n",
       "      <th>Gender</th>\n",
       "      <th>Age</th>\n",
       "      <th>Height</th>\n",
       "      <th>Regime</th>\n",
       "      <th>Start Wt</th>\n",
       "      <th>End Wt</th>\n",
       "      <th>Wt_ loss/gain</th>\n",
       "      <th>Abs wt loss/gain</th>\n",
       "      <th>Unnamed: 9</th>\n",
       "      <th>Unnamed: 10</th>\n",
       "      <th>Unnamed: 11</th>\n",
       "    </tr>\n",
       "  </thead>\n",
       "  <tbody>\n",
       "    <tr>\n",
       "      <th>0</th>\n",
       "      <td>14</td>\n",
       "      <td>Female</td>\n",
       "      <td>37</td>\n",
       "      <td>167</td>\n",
       "      <td>A</td>\n",
       "      <td>82.0</td>\n",
       "      <td>83.0</td>\n",
       "      <td>-1.0</td>\n",
       "      <td>1.0</td>\n",
       "      <td>NaN</td>\n",
       "      <td>Abs wt loss/gain</td>\n",
       "      <td>NaN</td>\n",
       "    </tr>\n",
       "    <tr>\n",
       "      <th>1</th>\n",
       "      <td>45</td>\n",
       "      <td>Male</td>\n",
       "      <td>31</td>\n",
       "      <td>158</td>\n",
       "      <td>A</td>\n",
       "      <td>72.0</td>\n",
       "      <td>73.1</td>\n",
       "      <td>-1.1</td>\n",
       "      <td>1.1</td>\n",
       "      <td>NaN</td>\n",
       "      <td>NaN</td>\n",
       "      <td>NaN</td>\n",
       "    </tr>\n",
       "    <tr>\n",
       "      <th>2</th>\n",
       "      <td>44</td>\n",
       "      <td>Male</td>\n",
       "      <td>39</td>\n",
       "      <td>168</td>\n",
       "      <td>A</td>\n",
       "      <td>71.0</td>\n",
       "      <td>71.6</td>\n",
       "      <td>-0.6</td>\n",
       "      <td>0.6</td>\n",
       "      <td>NaN</td>\n",
       "      <td>Mean</td>\n",
       "      <td>3.969048</td>\n",
       "    </tr>\n",
       "    <tr>\n",
       "      <th>3</th>\n",
       "      <td>77</td>\n",
       "      <td>Male</td>\n",
       "      <td>33</td>\n",
       "      <td>167</td>\n",
       "      <td>A</td>\n",
       "      <td>72.0</td>\n",
       "      <td>72.2</td>\n",
       "      <td>-0.2</td>\n",
       "      <td>0.2</td>\n",
       "      <td>NaN</td>\n",
       "      <td>Standard Error</td>\n",
       "      <td>0.253348</td>\n",
       "    </tr>\n",
       "    <tr>\n",
       "      <th>4</th>\n",
       "      <td>82</td>\n",
       "      <td>Male</td>\n",
       "      <td>35</td>\n",
       "      <td>170</td>\n",
       "      <td>A</td>\n",
       "      <td>72.0</td>\n",
       "      <td>71.8</td>\n",
       "      <td>0.2</td>\n",
       "      <td>0.2</td>\n",
       "      <td>NaN</td>\n",
       "      <td>Median</td>\n",
       "      <td>3.900000</td>\n",
       "    </tr>\n",
       "  </tbody>\n",
       "</table></div>"
      ],
      "text/plain": [
       "   No  Gender  Age  Height Regime  Start Wt  End Wt  Wt_ loss/gain  \\\n",
       "0  14  Female   37     167      A      82.0    83.0           -1.0   \n",
       "1  45    Male   31     158      A      72.0    73.1           -1.1   \n",
       "2  44    Male   39     168      A      71.0    71.6           -0.6   \n",
       "3  77    Male   33     167      A      72.0    72.2           -0.2   \n",
       "4  82    Male   35     170      A      72.0    71.8            0.2   \n",
       "\n",
       "   Abs wt loss/gain  Unnamed: 9       Unnamed: 10  Unnamed: 11  \n",
       "0               1.0         NaN  Abs wt loss/gain          NaN  \n",
       "1               1.1         NaN               NaN          NaN  \n",
       "2               0.6         NaN              Mean     3.969048  \n",
       "3               0.2         NaN    Standard Error     0.253348  \n",
       "4               0.2         NaN            Median     3.900000  "
      ]
     },
     "execution_count": 197,
     "metadata": {},
     "output_type": "execute_result"
    }
   ],
   "source": [
    "data.head()"
   ]
  },
  {
   "cell_type": "markdown",
   "id": "9734ecb3",
   "metadata": {},
   "source": [
    "# Starting of Q2 "
   ]
  },
  {
   "cell_type": "code",
   "execution_count": 198,
   "id": "3ffe4fda",
   "metadata": {},
   "outputs": [],
   "source": [
    "# Using statistics.median()\n",
    "\n",
    "Regime_A = [-1, -1.1,-0.6,-0.2,0.2,1,1.2,1.3,1.4,1.5,2.6,2,2.9,2.7,3,3.2,3.6,3.7,3.8,4,4.6,4.8,4.5,5.7,5.8,6.1,7.9,8]\n",
    "\n",
    "Regime_B = [-1.8,-1,-0.5,0.1,0.6,1.7,2.2,2,2,2.4,2.7,3,3.2,3.3,3.5,4,4.2,4.3,4.4,4.7,4.8,4.8,5.8,5.9,6,6.5,7.5,7.9]\n",
    "\n",
    "Regime_C = [1.5,1.2,1,2.7,2.9,2.8,3.5,3.5,4,4,4.1,4.5,4.9,5.1,5.2,5.9,6.2,6.3,6.7,6.5,6.8,6.8,7,7.3,7.6,7.8,8.9,9.5]"
   ]
  },
  {
   "cell_type": "code",
   "execution_count": 199,
   "id": "64fdf888",
   "metadata": {},
   "outputs": [
    {
     "name": "stdout",
     "output_type": "stream",
     "text": [
      "Calculation for the Mean Value - Regime A,B,C\n",
      "                                                  \n",
      "Mean / Average is Regmie A : 2.95\n",
      "Mean / Average is Regmie B: 3.3642857142857143\n",
      "Mean / Average is Regmie C: 5.1499999999999995\n",
      "                                                  \n",
      "##################################################\n",
      "                                                  \n",
      "Count of Regime A,B,C\n",
      "                                                  \n",
      "Count of Regime A: 28\n",
      "Count of Regime B: 28\n",
      "Count of Regime C: 28\n",
      "                                                  \n",
      "##################################################\n",
      "                                                  \n",
      "Calculation for the Variance - Regime A,B,C\n",
      "                                                  \n",
      "Variance of Regime A:  6.085555555555556\n",
      "Variance of Regime B:  6.0786772486772485\n",
      "Variance of Regime C:  5.152962962962963\n"
     ]
    }
   ],
   "source": [
    "# Calculating the length of the Regime A,B,C\n",
    "n1 = len(Regime_A)\n",
    "n2 = len(Regime_B)\n",
    "n3 = len(Regime_C)\n",
    "\n",
    "# Performing the Sum for the Regime A,B,C\n",
    "get_sum1 = sum(Regime_A)\n",
    "get_sum2 = sum(Regime_B)\n",
    "get_sum3 = sum(Regime_C)\n",
    "\n",
    "#  Finding the Mean Value Regime A,B,C\n",
    "mean1 = get_sum1 / n1\n",
    "mean2 = get_sum2 / n2\n",
    "mean3 = get_sum3 / n3\n",
    "\n",
    "print (\"Calculation for the Mean Value - Regime A,B,C\")\n",
    "print (\"                                                  \")\n",
    "print(\"Mean / Average is Regmie A : \" + str(mean1)) # Printing the Mean Value Regime A,B,C\n",
    "print(\"Mean / Average is Regmie B: \" + str(mean2))\n",
    "print(\"Mean / Average is Regmie C: \" + str(mean3))\n",
    "print (\"                                                  \")\n",
    "print (\"##################################################\")\n",
    "print (\"                                                  \")\n",
    "print (\"Count of Regime A,B,C\")\n",
    "print (\"                                                  \")\n",
    "print (\"Count of Regime A:\" ,n1)\n",
    "print (\"Count of Regime B:\" ,n2)\n",
    "print (\"Count of Regime C:\" ,n3)\n",
    "print (\"                                                  \")\n",
    "print (\"##################################################\")\n",
    "print (\"                                                  \")\n",
    "print (\"Calculation for the Variance - Regime A,B,C\")\n",
    "print (\"                                                  \")\n",
    "print(\"Variance of Regime A: \", statistics.variance(Regime_A))\n",
    "print(\"Variance of Regime B: \",statistics.variance(Regime_B))\n",
    "print(\"Variance of Regime C: \",statistics.variance(Regime_C))"
   ]
  },
  {
   "cell_type": "markdown",
   "id": "e6166daf",
   "metadata": {},
   "source": [
    "# Starting of Q3 "
   ]
  },
  {
   "cell_type": "code",
   "execution_count": 200,
   "id": "a681be06",
   "metadata": {},
   "outputs": [
    {
     "name": "stdout",
     "output_type": "stream",
     "text": [
      "Q2(Median) of list is Regime A: 2.95\n",
      "Q2(Median) of list is Regime B: 3.4\n",
      "Q2(Median) of list is Regime C: 5.15\n"
     ]
    }
   ],
   "source": [
    "reg_A = statistics.median(Regime_A)\n",
    "\n",
    "reg_B = statistics.median(Regime_B)\n",
    "\n",
    "reg_C = statistics.median(Regime_C)\n",
    "\n",
    "# Printing result Regime A\n",
    "print(\"Q2(Median) of list is Regime A: \" + str(reg_A))\n",
    "\n",
    "# Printing result Regime B\n",
    "print(\"Q2(Median) of list is Regime B: \" + str(reg_B))\n",
    "\n",
    "# Printing result Regime C\n",
    "print(\"Q2(Median) of list is Regime C: \" + str(reg_C))"
   ]
  },
  {
   "cell_type": "code",
   "execution_count": 201,
   "id": "a3616ddd",
   "metadata": {},
   "outputs": [
    {
     "name": "stdout",
     "output_type": "stream",
     "text": [
      "5-Number Summary for each sample\n",
      "                                                  \n",
      "##################################################\n",
      "                                                  \n",
      "Quantile for Regmie A_Reponse Variables\n",
      "Min of Regime_C :  -1.1\n",
      "Q1 quantile of Regime_A :  1.275\n",
      "Q2 quantile of Regime_A :  2.95\n",
      "Q3 quantile of Regime_A :  4.525\n",
      "Max of Regime_A :  8.0\n",
      "                                                  \n",
      "##################################################\n",
      "                                                  \n",
      "Quantile for Regmie B_Reponse Variables\n",
      "Min of Regime_C :  -1.8\n",
      "Q1 quantile of Regime_B :  2.0\n",
      "Q2 quantile of Regime_B :  3.4\n",
      "Q3 quantile of Regime_B :  4.8\n",
      "Max of Regime_B :  7.9\n",
      "                                                  \n",
      "##################################################\n",
      "                                                  \n",
      "Quantile for Regmie C_Reponse Variables\n",
      "Min of Regime_C :  1.0\n",
      "Q1 quantile of Regime_C :  3.5\n",
      "Q2 quantile of Regime_C :  5.15\n",
      "Q3 quantile of Regime_C :  6.8\n",
      "Max of Regime_C :  9.5\n",
      "\n"
     ]
    }
   ],
   "source": [
    "print (\"5-Number Summary for each sample\")\n",
    "\n",
    "print (\"                                                  \")\n",
    "print (\"##################################################\")\n",
    "print (\"                                                  \")\n",
    "print (\"Quantile for Regmie A_Reponse Variables\")\n",
    "print(\"Min of Regime_C : \", np.quantile(Regime_A, 0))\n",
    "print(\"Q1 quantile of Regime_A : \", np.quantile(Regime_A, .25))\n",
    "print(\"Q2 quantile of Regime_A : \", np.quantile(Regime_A, .50))\n",
    "print(\"Q3 quantile of Regime_A : \", np.quantile(Regime_A, .75))\n",
    "print(\"Max of Regime_A : \", np.quantile(Regime_A, 1))\n",
    "\n",
    "\n",
    "print (\"                                                  \")\n",
    "print (\"##################################################\")\n",
    "print (\"                                                  \")\n",
    "print (\"Quantile for Regmie B_Reponse Variables\")\n",
    "print(\"Min of Regime_C : \", np.quantile(Regime_B, 0))\n",
    "print(\"Q1 quantile of Regime_B : \", np.quantile(Regime_B, .25))\n",
    "print(\"Q2 quantile of Regime_B : \", np.quantile(Regime_B, .50))\n",
    "print(\"Q3 quantile of Regime_B : \", np.quantile(Regime_B, .75))\n",
    "print(\"Max of Regime_B : \", np.quantile(Regime_B, 1))\n",
    "\n",
    "print (\"                                                  \")\n",
    "print (\"##################################################\")\n",
    "print (\"                                                  \")\n",
    "print (\"Quantile for Regmie C_Reponse Variables\")\n",
    "\n",
    "print(\"Min of Regime_C : \", np.quantile(Regime_C, 0))\n",
    "print(\"Q1 quantile of Regime_C : \", np.quantile(Regime_C, .25))\n",
    "print(\"Q2 quantile of Regime_C : \", np.quantile(Regime_C, .50))\n",
    "print(\"Q3 quantile of Regime_C : \", np.quantile(Regime_C, .75))\n",
    "print(\"Max of Regime_C : \", np.quantile(Regime_C, 1))\n",
    "print ()"
   ]
  },
  {
   "cell_type": "markdown",
   "id": "57dd91ce",
   "metadata": {},
   "source": [
    "# Starting of Q4\n",
    "### Calculation BMI value based on the Weight & Height\n",
    "### Formula for BMI = weight (kilogramms) / height^2 (metres)"
   ]
  },
  {
   "cell_type": "code",
   "execution_count": 202,
   "id": "4ea7ff76",
   "metadata": {},
   "outputs": [
    {
     "data": {
      "text/html": [
       "<div><div id=3c1ef933-696f-4d75-8e2b-34ff426aa37c style=\"display:none; background-color:#9D6CFF; color:white; width:200px; height:30px; padding-left:5px; border-radius:4px; flex-direction:row; justify-content:space-around; align-items:center;\" onmouseover=\"this.style.backgroundColor='#BA9BF8'\" onmouseout=\"this.style.backgroundColor='#9D6CFF'\" onclick=\"window.commands?.execute('create-mitosheet-from-dataframe-output');\">See Full Dataframe in Mito</div> <script> if (window.commands?.hasCommand('create-mitosheet-from-dataframe-output')) document.getElementById('3c1ef933-696f-4d75-8e2b-34ff426aa37c').style.display = 'flex' </script> <table border=\"1\" class=\"dataframe\">\n",
       "  <thead>\n",
       "    <tr style=\"text-align: right;\">\n",
       "      <th></th>\n",
       "      <th>No</th>\n",
       "      <th>Gender</th>\n",
       "      <th>Age</th>\n",
       "      <th>Height</th>\n",
       "      <th>Regime</th>\n",
       "      <th>Start Wt</th>\n",
       "      <th>End Wt</th>\n",
       "      <th>Wt_ loss/gain</th>\n",
       "      <th>Abs wt loss/gain</th>\n",
       "      <th>Unnamed: 9</th>\n",
       "      <th>Unnamed: 10</th>\n",
       "      <th>Unnamed: 11</th>\n",
       "      <th>Start_BMI</th>\n",
       "      <th>End_BMI</th>\n",
       "      <th>BMI_calculation</th>\n",
       "    </tr>\n",
       "  </thead>\n",
       "  <tbody>\n",
       "    <tr>\n",
       "      <th>0</th>\n",
       "      <td>14</td>\n",
       "      <td>Female</td>\n",
       "      <td>37</td>\n",
       "      <td>167</td>\n",
       "      <td>A</td>\n",
       "      <td>82.0</td>\n",
       "      <td>83.0</td>\n",
       "      <td>-1.0</td>\n",
       "      <td>1.0</td>\n",
       "      <td>NaN</td>\n",
       "      <td>Abs wt loss/gain</td>\n",
       "      <td>NaN</td>\n",
       "      <td>29.402273</td>\n",
       "      <td>29.760838</td>\n",
       "      <td>-0.358564</td>\n",
       "    </tr>\n",
       "    <tr>\n",
       "      <th>1</th>\n",
       "      <td>45</td>\n",
       "      <td>Male</td>\n",
       "      <td>31</td>\n",
       "      <td>158</td>\n",
       "      <td>A</td>\n",
       "      <td>72.0</td>\n",
       "      <td>73.1</td>\n",
       "      <td>-1.1</td>\n",
       "      <td>1.1</td>\n",
       "      <td>NaN</td>\n",
       "      <td>NaN</td>\n",
       "      <td>NaN</td>\n",
       "      <td>28.841532</td>\n",
       "      <td>29.282166</td>\n",
       "      <td>-0.440635</td>\n",
       "    </tr>\n",
       "    <tr>\n",
       "      <th>2</th>\n",
       "      <td>44</td>\n",
       "      <td>Male</td>\n",
       "      <td>39</td>\n",
       "      <td>168</td>\n",
       "      <td>A</td>\n",
       "      <td>71.0</td>\n",
       "      <td>71.6</td>\n",
       "      <td>-0.6</td>\n",
       "      <td>0.6</td>\n",
       "      <td>NaN</td>\n",
       "      <td>Mean</td>\n",
       "      <td>3.969048</td>\n",
       "      <td>25.155896</td>\n",
       "      <td>25.368481</td>\n",
       "      <td>-0.212585</td>\n",
       "    </tr>\n",
       "    <tr>\n",
       "      <th>3</th>\n",
       "      <td>77</td>\n",
       "      <td>Male</td>\n",
       "      <td>33</td>\n",
       "      <td>167</td>\n",
       "      <td>A</td>\n",
       "      <td>72.0</td>\n",
       "      <td>72.2</td>\n",
       "      <td>-0.2</td>\n",
       "      <td>0.2</td>\n",
       "      <td>NaN</td>\n",
       "      <td>Standard Error</td>\n",
       "      <td>0.253348</td>\n",
       "      <td>25.816630</td>\n",
       "      <td>25.888343</td>\n",
       "      <td>-0.071713</td>\n",
       "    </tr>\n",
       "    <tr>\n",
       "      <th>4</th>\n",
       "      <td>82</td>\n",
       "      <td>Male</td>\n",
       "      <td>35</td>\n",
       "      <td>170</td>\n",
       "      <td>A</td>\n",
       "      <td>72.0</td>\n",
       "      <td>71.8</td>\n",
       "      <td>0.2</td>\n",
       "      <td>0.2</td>\n",
       "      <td>NaN</td>\n",
       "      <td>Median</td>\n",
       "      <td>3.900000</td>\n",
       "      <td>24.913495</td>\n",
       "      <td>24.844291</td>\n",
       "      <td>0.069204</td>\n",
       "    </tr>\n",
       "    <tr>\n",
       "      <th>...</th>\n",
       "      <td>...</td>\n",
       "      <td>...</td>\n",
       "      <td>...</td>\n",
       "      <td>...</td>\n",
       "      <td>...</td>\n",
       "      <td>...</td>\n",
       "      <td>...</td>\n",
       "      <td>...</td>\n",
       "      <td>...</td>\n",
       "      <td>...</td>\n",
       "      <td>...</td>\n",
       "      <td>...</td>\n",
       "      <td>...</td>\n",
       "      <td>...</td>\n",
       "      <td>...</td>\n",
       "    </tr>\n",
       "    <tr>\n",
       "      <th>79</th>\n",
       "      <td>38</td>\n",
       "      <td>Female</td>\n",
       "      <td>37</td>\n",
       "      <td>170</td>\n",
       "      <td>C</td>\n",
       "      <td>70.0</td>\n",
       "      <td>62.7</td>\n",
       "      <td>7.3</td>\n",
       "      <td>7.3</td>\n",
       "      <td>NaN</td>\n",
       "      <td>NaN</td>\n",
       "      <td>NaN</td>\n",
       "      <td>24.221453</td>\n",
       "      <td>21.695502</td>\n",
       "      <td>2.525952</td>\n",
       "    </tr>\n",
       "    <tr>\n",
       "      <th>80</th>\n",
       "      <td>40</td>\n",
       "      <td>Female</td>\n",
       "      <td>35</td>\n",
       "      <td>171</td>\n",
       "      <td>C</td>\n",
       "      <td>72.0</td>\n",
       "      <td>64.4</td>\n",
       "      <td>7.6</td>\n",
       "      <td>7.6</td>\n",
       "      <td>NaN</td>\n",
       "      <td>NaN</td>\n",
       "      <td>NaN</td>\n",
       "      <td>24.622961</td>\n",
       "      <td>22.023871</td>\n",
       "      <td>2.599090</td>\n",
       "    </tr>\n",
       "    <tr>\n",
       "      <th>81</th>\n",
       "      <td>33</td>\n",
       "      <td>Female</td>\n",
       "      <td>36</td>\n",
       "      <td>160</td>\n",
       "      <td>C</td>\n",
       "      <td>66.0</td>\n",
       "      <td>58.2</td>\n",
       "      <td>7.8</td>\n",
       "      <td>7.8</td>\n",
       "      <td>NaN</td>\n",
       "      <td>NaN</td>\n",
       "      <td>NaN</td>\n",
       "      <td>25.781250</td>\n",
       "      <td>22.734375</td>\n",
       "      <td>3.046875</td>\n",
       "    </tr>\n",
       "    <tr>\n",
       "      <th>82</th>\n",
       "      <td>70</td>\n",
       "      <td>Male</td>\n",
       "      <td>26</td>\n",
       "      <td>179</td>\n",
       "      <td>C</td>\n",
       "      <td>78.0</td>\n",
       "      <td>69.1</td>\n",
       "      <td>8.9</td>\n",
       "      <td>8.9</td>\n",
       "      <td>NaN</td>\n",
       "      <td>NaN</td>\n",
       "      <td>NaN</td>\n",
       "      <td>24.343809</td>\n",
       "      <td>21.566118</td>\n",
       "      <td>2.777691</td>\n",
       "    </tr>\n",
       "    <tr>\n",
       "      <th>83</th>\n",
       "      <td>75</td>\n",
       "      <td>Male</td>\n",
       "      <td>40</td>\n",
       "      <td>167</td>\n",
       "      <td>C</td>\n",
       "      <td>87.0</td>\n",
       "      <td>77.5</td>\n",
       "      <td>9.5</td>\n",
       "      <td>9.5</td>\n",
       "      <td>NaN</td>\n",
       "      <td>NaN</td>\n",
       "      <td>NaN</td>\n",
       "      <td>31.195095</td>\n",
       "      <td>27.788734</td>\n",
       "      <td>3.406361</td>\n",
       "    </tr>\n",
       "  </tbody>\n",
       "</table></div>"
      ],
      "text/plain": [
       "    No  Gender  Age  Height Regime  Start Wt  End Wt  Wt_ loss/gain  \\\n",
       "0   14  Female   37     167      A      82.0    83.0           -1.0   \n",
       "1   45    Male   31     158      A      72.0    73.1           -1.1   \n",
       "2   44    Male   39     168      A      71.0    71.6           -0.6   \n",
       "3   77    Male   33     167      A      72.0    72.2           -0.2   \n",
       "4   82    Male   35     170      A      72.0    71.8            0.2   \n",
       "..  ..     ...  ...     ...    ...       ...     ...            ...   \n",
       "79  38  Female   37     170      C      70.0    62.7            7.3   \n",
       "80  40  Female   35     171      C      72.0    64.4            7.6   \n",
       "81  33  Female   36     160      C      66.0    58.2            7.8   \n",
       "82  70    Male   26     179      C      78.0    69.1            8.9   \n",
       "83  75    Male   40     167      C      87.0    77.5            9.5   \n",
       "\n",
       "    Abs wt loss/gain  Unnamed: 9       Unnamed: 10  Unnamed: 11  Start_BMI  \\\n",
       "0                1.0         NaN  Abs wt loss/gain          NaN  29.402273   \n",
       "1                1.1         NaN               NaN          NaN  28.841532   \n",
       "2                0.6         NaN              Mean     3.969048  25.155896   \n",
       "3                0.2         NaN    Standard Error     0.253348  25.816630   \n",
       "4                0.2         NaN            Median     3.900000  24.913495   \n",
       "..               ...         ...               ...          ...        ...   \n",
       "79               7.3         NaN               NaN          NaN  24.221453   \n",
       "80               7.6         NaN               NaN          NaN  24.622961   \n",
       "81               7.8         NaN               NaN          NaN  25.781250   \n",
       "82               8.9         NaN               NaN          NaN  24.343809   \n",
       "83               9.5         NaN               NaN          NaN  31.195095   \n",
       "\n",
       "      End_BMI  BMI_calculation  \n",
       "0   29.760838        -0.358564  \n",
       "1   29.282166        -0.440635  \n",
       "2   25.368481        -0.212585  \n",
       "3   25.888343        -0.071713  \n",
       "4   24.844291         0.069204  \n",
       "..        ...              ...  \n",
       "79  21.695502         2.525952  \n",
       "80  22.023871         2.599090  \n",
       "81  22.734375         3.046875  \n",
       "82  21.566118         2.777691  \n",
       "83  27.788734         3.406361  \n",
       "\n",
       "[84 rows x 15 columns]"
      ]
     },
     "execution_count": 202,
     "metadata": {},
     "output_type": "execute_result"
    }
   ],
   "source": [
    "data ['Start_BMI'] = data [\"Start Wt\"] / (data [\"Height\"] / 100)**2\n",
    "data [\"End_BMI\"] = data [\"End Wt\"] / (data [\"Height\"] / 100)**2\n",
    "data [\"BMI_calculation\"] = data ['Start_BMI'] - data [\"End_BMI\"]\n",
    "data"
   ]
  },
  {
   "cell_type": "code",
   "execution_count": 203,
   "id": "48cdd1db",
   "metadata": {},
   "outputs": [
    {
     "data": {
      "application/vnd.plotly.v1+json": {
       "config": {
        "plotlyServerURL": "https://plot.ly"
       },
       "data": [
        {
         "name": "Regime_A",
         "type": "box",
         "y": [
          -0.3585643085087291,
          -0.4406345136997274,
          -0.2125850340136033,
          -0.07171286170174795,
          0.06920415224913512,
          0.3460207612456756,
          0.29702235093190765,
          0.4343613217949134,
          0.4624124719249565,
          0.5509641873278248,
          0.9550045913682261,
          0.6920415224913512,
          0.9917581478061592,
          0.9917355371900847,
          1.0886921178690656,
          1.3149243918474696,
          0.9972299168975063,
          1.3926003989611964,
          1.503105098690714,
          1.2767723195761143,
          1.7968749999999964,
          1.603795649704299,
          1.3888888888888893,
          1.5462239583333357,
          2.104804761213529,
          2.4435186668803084,
          3.010211857948484,
          2.5826446280991746
         ]
        },
        {
         "name": "Regime_B",
         "type": "box",
         "y": [
          -0.5945303210463742,
          -0.30864197530864246,
          -0.1750638983228896,
          0.03585643085087398,
          0.19817677368212472,
          0.6244260789715348,
          0.5845467105962392,
          0.676041103299081,
          0.7527569724114578,
          0.6060453018863186,
          1.0162219127554692,
          1.0886921178690656,
          1.234520273137612,
          0.9141274238227162,
          1.1694343279093857,
          1.469237832874196,
          1.1512842301472013,
          1.470537943298794,
          1.3283419876826486,
          1.6852522499910378,
          1.8749999999999964,
          1.8066167337874965,
          1.5097875885047856,
          2.0415224913494825,
          2.25827091723437,
          2.222906193358643,
          2.625958474843319,
          2.0151004999489857
         ]
        },
        {
         "name": "Regime_C",
         "type": "box",
         "y": [
          0.5011861405325959,
          0.37452014606286,
          0.34602076124567205,
          1.1238293444328846,
          0.8659559855474974,
          0.8937406237032768,
          1.3844389066888176,
          1.2701408041805777,
          1.2767723195761143,
          1.6227838857560144,
          1.4021408296569895,
          1.4044505477357134,
          1.8218322427126736,
          1.7856517628934583,
          1.8206645425580348,
          1.9265306122448997,
          1.754187415119965,
          2.691272587466358,
          2.5217358575783813,
          2.2758306781975435,
          3.42035108897943,
          2.497704315886132,
          2.9136316337148784,
          2.525951557093425,
          2.599090318388562,
          3.046875,
          2.7776910832995263,
          3.4063609308329426
         ]
        }
       ],
       "layout": {
        "template": {
         "data": {
          "bar": [
           {
            "error_x": {
             "color": "#2a3f5f"
            },
            "error_y": {
             "color": "#2a3f5f"
            },
            "marker": {
             "line": {
              "color": "#E5ECF6",
              "width": 0.5
             },
             "pattern": {
              "fillmode": "overlay",
              "size": 10,
              "solidity": 0.2
             }
            },
            "type": "bar"
           }
          ],
          "barpolar": [
           {
            "marker": {
             "line": {
              "color": "#E5ECF6",
              "width": 0.5
             },
             "pattern": {
              "fillmode": "overlay",
              "size": 10,
              "solidity": 0.2
             }
            },
            "type": "barpolar"
           }
          ],
          "carpet": [
           {
            "aaxis": {
             "endlinecolor": "#2a3f5f",
             "gridcolor": "white",
             "linecolor": "white",
             "minorgridcolor": "white",
             "startlinecolor": "#2a3f5f"
            },
            "baxis": {
             "endlinecolor": "#2a3f5f",
             "gridcolor": "white",
             "linecolor": "white",
             "minorgridcolor": "white",
             "startlinecolor": "#2a3f5f"
            },
            "type": "carpet"
           }
          ],
          "choropleth": [
           {
            "colorbar": {
             "outlinewidth": 0,
             "ticks": ""
            },
            "type": "choropleth"
           }
          ],
          "contour": [
           {
            "colorbar": {
             "outlinewidth": 0,
             "ticks": ""
            },
            "colorscale": [
             [
              0,
              "#0d0887"
             ],
             [
              0.1111111111111111,
              "#46039f"
             ],
             [
              0.2222222222222222,
              "#7201a8"
             ],
             [
              0.3333333333333333,
              "#9c179e"
             ],
             [
              0.4444444444444444,
              "#bd3786"
             ],
             [
              0.5555555555555556,
              "#d8576b"
             ],
             [
              0.6666666666666666,
              "#ed7953"
             ],
             [
              0.7777777777777778,
              "#fb9f3a"
             ],
             [
              0.8888888888888888,
              "#fdca26"
             ],
             [
              1,
              "#f0f921"
             ]
            ],
            "type": "contour"
           }
          ],
          "contourcarpet": [
           {
            "colorbar": {
             "outlinewidth": 0,
             "ticks": ""
            },
            "type": "contourcarpet"
           }
          ],
          "heatmap": [
           {
            "colorbar": {
             "outlinewidth": 0,
             "ticks": ""
            },
            "colorscale": [
             [
              0,
              "#0d0887"
             ],
             [
              0.1111111111111111,
              "#46039f"
             ],
             [
              0.2222222222222222,
              "#7201a8"
             ],
             [
              0.3333333333333333,
              "#9c179e"
             ],
             [
              0.4444444444444444,
              "#bd3786"
             ],
             [
              0.5555555555555556,
              "#d8576b"
             ],
             [
              0.6666666666666666,
              "#ed7953"
             ],
             [
              0.7777777777777778,
              "#fb9f3a"
             ],
             [
              0.8888888888888888,
              "#fdca26"
             ],
             [
              1,
              "#f0f921"
             ]
            ],
            "type": "heatmap"
           }
          ],
          "heatmapgl": [
           {
            "colorbar": {
             "outlinewidth": 0,
             "ticks": ""
            },
            "colorscale": [
             [
              0,
              "#0d0887"
             ],
             [
              0.1111111111111111,
              "#46039f"
             ],
             [
              0.2222222222222222,
              "#7201a8"
             ],
             [
              0.3333333333333333,
              "#9c179e"
             ],
             [
              0.4444444444444444,
              "#bd3786"
             ],
             [
              0.5555555555555556,
              "#d8576b"
             ],
             [
              0.6666666666666666,
              "#ed7953"
             ],
             [
              0.7777777777777778,
              "#fb9f3a"
             ],
             [
              0.8888888888888888,
              "#fdca26"
             ],
             [
              1,
              "#f0f921"
             ]
            ],
            "type": "heatmapgl"
           }
          ],
          "histogram": [
           {
            "marker": {
             "pattern": {
              "fillmode": "overlay",
              "size": 10,
              "solidity": 0.2
             }
            },
            "type": "histogram"
           }
          ],
          "histogram2d": [
           {
            "colorbar": {
             "outlinewidth": 0,
             "ticks": ""
            },
            "colorscale": [
             [
              0,
              "#0d0887"
             ],
             [
              0.1111111111111111,
              "#46039f"
             ],
             [
              0.2222222222222222,
              "#7201a8"
             ],
             [
              0.3333333333333333,
              "#9c179e"
             ],
             [
              0.4444444444444444,
              "#bd3786"
             ],
             [
              0.5555555555555556,
              "#d8576b"
             ],
             [
              0.6666666666666666,
              "#ed7953"
             ],
             [
              0.7777777777777778,
              "#fb9f3a"
             ],
             [
              0.8888888888888888,
              "#fdca26"
             ],
             [
              1,
              "#f0f921"
             ]
            ],
            "type": "histogram2d"
           }
          ],
          "histogram2dcontour": [
           {
            "colorbar": {
             "outlinewidth": 0,
             "ticks": ""
            },
            "colorscale": [
             [
              0,
              "#0d0887"
             ],
             [
              0.1111111111111111,
              "#46039f"
             ],
             [
              0.2222222222222222,
              "#7201a8"
             ],
             [
              0.3333333333333333,
              "#9c179e"
             ],
             [
              0.4444444444444444,
              "#bd3786"
             ],
             [
              0.5555555555555556,
              "#d8576b"
             ],
             [
              0.6666666666666666,
              "#ed7953"
             ],
             [
              0.7777777777777778,
              "#fb9f3a"
             ],
             [
              0.8888888888888888,
              "#fdca26"
             ],
             [
              1,
              "#f0f921"
             ]
            ],
            "type": "histogram2dcontour"
           }
          ],
          "mesh3d": [
           {
            "colorbar": {
             "outlinewidth": 0,
             "ticks": ""
            },
            "type": "mesh3d"
           }
          ],
          "parcoords": [
           {
            "line": {
             "colorbar": {
              "outlinewidth": 0,
              "ticks": ""
             }
            },
            "type": "parcoords"
           }
          ],
          "pie": [
           {
            "automargin": true,
            "type": "pie"
           }
          ],
          "scatter": [
           {
            "fillpattern": {
             "fillmode": "overlay",
             "size": 10,
             "solidity": 0.2
            },
            "type": "scatter"
           }
          ],
          "scatter3d": [
           {
            "line": {
             "colorbar": {
              "outlinewidth": 0,
              "ticks": ""
             }
            },
            "marker": {
             "colorbar": {
              "outlinewidth": 0,
              "ticks": ""
             }
            },
            "type": "scatter3d"
           }
          ],
          "scattercarpet": [
           {
            "marker": {
             "colorbar": {
              "outlinewidth": 0,
              "ticks": ""
             }
            },
            "type": "scattercarpet"
           }
          ],
          "scattergeo": [
           {
            "marker": {
             "colorbar": {
              "outlinewidth": 0,
              "ticks": ""
             }
            },
            "type": "scattergeo"
           }
          ],
          "scattergl": [
           {
            "marker": {
             "colorbar": {
              "outlinewidth": 0,
              "ticks": ""
             }
            },
            "type": "scattergl"
           }
          ],
          "scattermapbox": [
           {
            "marker": {
             "colorbar": {
              "outlinewidth": 0,
              "ticks": ""
             }
            },
            "type": "scattermapbox"
           }
          ],
          "scatterpolar": [
           {
            "marker": {
             "colorbar": {
              "outlinewidth": 0,
              "ticks": ""
             }
            },
            "type": "scatterpolar"
           }
          ],
          "scatterpolargl": [
           {
            "marker": {
             "colorbar": {
              "outlinewidth": 0,
              "ticks": ""
             }
            },
            "type": "scatterpolargl"
           }
          ],
          "scatterternary": [
           {
            "marker": {
             "colorbar": {
              "outlinewidth": 0,
              "ticks": ""
             }
            },
            "type": "scatterternary"
           }
          ],
          "surface": [
           {
            "colorbar": {
             "outlinewidth": 0,
             "ticks": ""
            },
            "colorscale": [
             [
              0,
              "#0d0887"
             ],
             [
              0.1111111111111111,
              "#46039f"
             ],
             [
              0.2222222222222222,
              "#7201a8"
             ],
             [
              0.3333333333333333,
              "#9c179e"
             ],
             [
              0.4444444444444444,
              "#bd3786"
             ],
             [
              0.5555555555555556,
              "#d8576b"
             ],
             [
              0.6666666666666666,
              "#ed7953"
             ],
             [
              0.7777777777777778,
              "#fb9f3a"
             ],
             [
              0.8888888888888888,
              "#fdca26"
             ],
             [
              1,
              "#f0f921"
             ]
            ],
            "type": "surface"
           }
          ],
          "table": [
           {
            "cells": {
             "fill": {
              "color": "#EBF0F8"
             },
             "line": {
              "color": "white"
             }
            },
            "header": {
             "fill": {
              "color": "#C8D4E3"
             },
             "line": {
              "color": "white"
             }
            },
            "type": "table"
           }
          ]
         },
         "layout": {
          "annotationdefaults": {
           "arrowcolor": "#2a3f5f",
           "arrowhead": 0,
           "arrowwidth": 1
          },
          "autotypenumbers": "strict",
          "coloraxis": {
           "colorbar": {
            "outlinewidth": 0,
            "ticks": ""
           }
          },
          "colorscale": {
           "diverging": [
            [
             0,
             "#8e0152"
            ],
            [
             0.1,
             "#c51b7d"
            ],
            [
             0.2,
             "#de77ae"
            ],
            [
             0.3,
             "#f1b6da"
            ],
            [
             0.4,
             "#fde0ef"
            ],
            [
             0.5,
             "#f7f7f7"
            ],
            [
             0.6,
             "#e6f5d0"
            ],
            [
             0.7,
             "#b8e186"
            ],
            [
             0.8,
             "#7fbc41"
            ],
            [
             0.9,
             "#4d9221"
            ],
            [
             1,
             "#276419"
            ]
           ],
           "sequential": [
            [
             0,
             "#0d0887"
            ],
            [
             0.1111111111111111,
             "#46039f"
            ],
            [
             0.2222222222222222,
             "#7201a8"
            ],
            [
             0.3333333333333333,
             "#9c179e"
            ],
            [
             0.4444444444444444,
             "#bd3786"
            ],
            [
             0.5555555555555556,
             "#d8576b"
            ],
            [
             0.6666666666666666,
             "#ed7953"
            ],
            [
             0.7777777777777778,
             "#fb9f3a"
            ],
            [
             0.8888888888888888,
             "#fdca26"
            ],
            [
             1,
             "#f0f921"
            ]
           ],
           "sequentialminus": [
            [
             0,
             "#0d0887"
            ],
            [
             0.1111111111111111,
             "#46039f"
            ],
            [
             0.2222222222222222,
             "#7201a8"
            ],
            [
             0.3333333333333333,
             "#9c179e"
            ],
            [
             0.4444444444444444,
             "#bd3786"
            ],
            [
             0.5555555555555556,
             "#d8576b"
            ],
            [
             0.6666666666666666,
             "#ed7953"
            ],
            [
             0.7777777777777778,
             "#fb9f3a"
            ],
            [
             0.8888888888888888,
             "#fdca26"
            ],
            [
             1,
             "#f0f921"
            ]
           ]
          },
          "colorway": [
           "#636efa",
           "#EF553B",
           "#00cc96",
           "#ab63fa",
           "#FFA15A",
           "#19d3f3",
           "#FF6692",
           "#B6E880",
           "#FF97FF",
           "#FECB52"
          ],
          "font": {
           "color": "#2a3f5f"
          },
          "geo": {
           "bgcolor": "white",
           "lakecolor": "white",
           "landcolor": "#E5ECF6",
           "showlakes": true,
           "showland": true,
           "subunitcolor": "white"
          },
          "hoverlabel": {
           "align": "left"
          },
          "hovermode": "closest",
          "mapbox": {
           "style": "light"
          },
          "paper_bgcolor": "white",
          "plot_bgcolor": "#E5ECF6",
          "polar": {
           "angularaxis": {
            "gridcolor": "white",
            "linecolor": "white",
            "ticks": ""
           },
           "bgcolor": "#E5ECF6",
           "radialaxis": {
            "gridcolor": "white",
            "linecolor": "white",
            "ticks": ""
           }
          },
          "scene": {
           "xaxis": {
            "backgroundcolor": "#E5ECF6",
            "gridcolor": "white",
            "gridwidth": 2,
            "linecolor": "white",
            "showbackground": true,
            "ticks": "",
            "zerolinecolor": "white"
           },
           "yaxis": {
            "backgroundcolor": "#E5ECF6",
            "gridcolor": "white",
            "gridwidth": 2,
            "linecolor": "white",
            "showbackground": true,
            "ticks": "",
            "zerolinecolor": "white"
           },
           "zaxis": {
            "backgroundcolor": "#E5ECF6",
            "gridcolor": "white",
            "gridwidth": 2,
            "linecolor": "white",
            "showbackground": true,
            "ticks": "",
            "zerolinecolor": "white"
           }
          },
          "shapedefaults": {
           "line": {
            "color": "#2a3f5f"
           }
          },
          "ternary": {
           "aaxis": {
            "gridcolor": "white",
            "linecolor": "white",
            "ticks": ""
           },
           "baxis": {
            "gridcolor": "white",
            "linecolor": "white",
            "ticks": ""
           },
           "bgcolor": "#E5ECF6",
           "caxis": {
            "gridcolor": "white",
            "linecolor": "white",
            "ticks": ""
           }
          },
          "title": {
           "x": 0.05
          },
          "xaxis": {
           "automargin": true,
           "gridcolor": "white",
           "linecolor": "white",
           "ticks": "",
           "title": {
            "standoff": 15
           },
           "zerolinecolor": "white",
           "zerolinewidth": 2
          },
          "yaxis": {
           "automargin": true,
           "gridcolor": "white",
           "linecolor": "white",
           "ticks": "",
           "title": {
            "standoff": 15
           },
           "zerolinecolor": "white",
           "zerolinewidth": 2
          }
         }
        },
        "title": {
         "text": "Boxplot Using BMI Calculation on Regime A,B,C"
        }
       }
      },
      "text/html": [
       "<div>                            <div id=\"65e5b293-454e-43e5-9935-af7c55751c1f\" class=\"plotly-graph-div\" style=\"height:525px; width:100%;\"></div>            <script type=\"text/javascript\">                require([\"plotly\"], function(Plotly) {                    window.PLOTLYENV=window.PLOTLYENV || {};                                    if (document.getElementById(\"65e5b293-454e-43e5-9935-af7c55751c1f\")) {                    Plotly.newPlot(                        \"65e5b293-454e-43e5-9935-af7c55751c1f\",                        [{\"name\":\"Regime_A\",\"y\":[-0.3585643085087291,-0.4406345136997274,-0.2125850340136033,-0.07171286170174795,0.06920415224913512,0.3460207612456756,0.29702235093190765,0.4343613217949134,0.4624124719249565,0.5509641873278248,0.9550045913682261,0.6920415224913512,0.9917581478061592,0.9917355371900847,1.0886921178690656,1.3149243918474696,0.9972299168975063,1.3926003989611964,1.503105098690714,1.2767723195761143,1.7968749999999964,1.603795649704299,1.3888888888888893,1.5462239583333357,2.104804761213529,2.4435186668803084,3.010211857948484,2.5826446280991746],\"type\":\"box\"},{\"name\":\"Regime_B\",\"y\":[-0.5945303210463742,-0.30864197530864246,-0.1750638983228896,0.03585643085087398,0.19817677368212472,0.6244260789715348,0.5845467105962392,0.676041103299081,0.7527569724114578,0.6060453018863186,1.0162219127554692,1.0886921178690656,1.234520273137612,0.9141274238227162,1.1694343279093857,1.469237832874196,1.1512842301472013,1.470537943298794,1.3283419876826486,1.6852522499910378,1.8749999999999964,1.8066167337874965,1.5097875885047856,2.0415224913494825,2.25827091723437,2.222906193358643,2.625958474843319,2.0151004999489857],\"type\":\"box\"},{\"name\":\"Regime_C\",\"y\":[0.5011861405325959,0.37452014606286,0.34602076124567205,1.1238293444328846,0.8659559855474974,0.8937406237032768,1.3844389066888176,1.2701408041805777,1.2767723195761143,1.6227838857560144,1.4021408296569895,1.4044505477357134,1.8218322427126736,1.7856517628934583,1.8206645425580348,1.9265306122448997,1.754187415119965,2.691272587466358,2.5217358575783813,2.2758306781975435,3.42035108897943,2.497704315886132,2.9136316337148784,2.525951557093425,2.599090318388562,3.046875,2.7776910832995263,3.4063609308329426],\"type\":\"box\"}],                        {\"template\":{\"data\":{\"histogram2dcontour\":[{\"type\":\"histogram2dcontour\",\"colorbar\":{\"outlinewidth\":0,\"ticks\":\"\"},\"colorscale\":[[0.0,\"#0d0887\"],[0.1111111111111111,\"#46039f\"],[0.2222222222222222,\"#7201a8\"],[0.3333333333333333,\"#9c179e\"],[0.4444444444444444,\"#bd3786\"],[0.5555555555555556,\"#d8576b\"],[0.6666666666666666,\"#ed7953\"],[0.7777777777777778,\"#fb9f3a\"],[0.8888888888888888,\"#fdca26\"],[1.0,\"#f0f921\"]]}],\"choropleth\":[{\"type\":\"choropleth\",\"colorbar\":{\"outlinewidth\":0,\"ticks\":\"\"}}],\"histogram2d\":[{\"type\":\"histogram2d\",\"colorbar\":{\"outlinewidth\":0,\"ticks\":\"\"},\"colorscale\":[[0.0,\"#0d0887\"],[0.1111111111111111,\"#46039f\"],[0.2222222222222222,\"#7201a8\"],[0.3333333333333333,\"#9c179e\"],[0.4444444444444444,\"#bd3786\"],[0.5555555555555556,\"#d8576b\"],[0.6666666666666666,\"#ed7953\"],[0.7777777777777778,\"#fb9f3a\"],[0.8888888888888888,\"#fdca26\"],[1.0,\"#f0f921\"]]}],\"heatmap\":[{\"type\":\"heatmap\",\"colorbar\":{\"outlinewidth\":0,\"ticks\":\"\"},\"colorscale\":[[0.0,\"#0d0887\"],[0.1111111111111111,\"#46039f\"],[0.2222222222222222,\"#7201a8\"],[0.3333333333333333,\"#9c179e\"],[0.4444444444444444,\"#bd3786\"],[0.5555555555555556,\"#d8576b\"],[0.6666666666666666,\"#ed7953\"],[0.7777777777777778,\"#fb9f3a\"],[0.8888888888888888,\"#fdca26\"],[1.0,\"#f0f921\"]]}],\"heatmapgl\":[{\"type\":\"heatmapgl\",\"colorbar\":{\"outlinewidth\":0,\"ticks\":\"\"},\"colorscale\":[[0.0,\"#0d0887\"],[0.1111111111111111,\"#46039f\"],[0.2222222222222222,\"#7201a8\"],[0.3333333333333333,\"#9c179e\"],[0.4444444444444444,\"#bd3786\"],[0.5555555555555556,\"#d8576b\"],[0.6666666666666666,\"#ed7953\"],[0.7777777777777778,\"#fb9f3a\"],[0.8888888888888888,\"#fdca26\"],[1.0,\"#f0f921\"]]}],\"contourcarpet\":[{\"type\":\"contourcarpet\",\"colorbar\":{\"outlinewidth\":0,\"ticks\":\"\"}}],\"contour\":[{\"type\":\"contour\",\"colorbar\":{\"outlinewidth\":0,\"ticks\":\"\"},\"colorscale\":[[0.0,\"#0d0887\"],[0.1111111111111111,\"#46039f\"],[0.2222222222222222,\"#7201a8\"],[0.3333333333333333,\"#9c179e\"],[0.4444444444444444,\"#bd3786\"],[0.5555555555555556,\"#d8576b\"],[0.6666666666666666,\"#ed7953\"],[0.7777777777777778,\"#fb9f3a\"],[0.8888888888888888,\"#fdca26\"],[1.0,\"#f0f921\"]]}],\"surface\":[{\"type\":\"surface\",\"colorbar\":{\"outlinewidth\":0,\"ticks\":\"\"},\"colorscale\":[[0.0,\"#0d0887\"],[0.1111111111111111,\"#46039f\"],[0.2222222222222222,\"#7201a8\"],[0.3333333333333333,\"#9c179e\"],[0.4444444444444444,\"#bd3786\"],[0.5555555555555556,\"#d8576b\"],[0.6666666666666666,\"#ed7953\"],[0.7777777777777778,\"#fb9f3a\"],[0.8888888888888888,\"#fdca26\"],[1.0,\"#f0f921\"]]}],\"mesh3d\":[{\"type\":\"mesh3d\",\"colorbar\":{\"outlinewidth\":0,\"ticks\":\"\"}}],\"scatter\":[{\"fillpattern\":{\"fillmode\":\"overlay\",\"size\":10,\"solidity\":0.2},\"type\":\"scatter\"}],\"parcoords\":[{\"type\":\"parcoords\",\"line\":{\"colorbar\":{\"outlinewidth\":0,\"ticks\":\"\"}}}],\"scatterpolargl\":[{\"type\":\"scatterpolargl\",\"marker\":{\"colorbar\":{\"outlinewidth\":0,\"ticks\":\"\"}}}],\"bar\":[{\"error_x\":{\"color\":\"#2a3f5f\"},\"error_y\":{\"color\":\"#2a3f5f\"},\"marker\":{\"line\":{\"color\":\"#E5ECF6\",\"width\":0.5},\"pattern\":{\"fillmode\":\"overlay\",\"size\":10,\"solidity\":0.2}},\"type\":\"bar\"}],\"scattergeo\":[{\"type\":\"scattergeo\",\"marker\":{\"colorbar\":{\"outlinewidth\":0,\"ticks\":\"\"}}}],\"scatterpolar\":[{\"type\":\"scatterpolar\",\"marker\":{\"colorbar\":{\"outlinewidth\":0,\"ticks\":\"\"}}}],\"histogram\":[{\"marker\":{\"pattern\":{\"fillmode\":\"overlay\",\"size\":10,\"solidity\":0.2}},\"type\":\"histogram\"}],\"scattergl\":[{\"type\":\"scattergl\",\"marker\":{\"colorbar\":{\"outlinewidth\":0,\"ticks\":\"\"}}}],\"scatter3d\":[{\"type\":\"scatter3d\",\"line\":{\"colorbar\":{\"outlinewidth\":0,\"ticks\":\"\"}},\"marker\":{\"colorbar\":{\"outlinewidth\":0,\"ticks\":\"\"}}}],\"scattermapbox\":[{\"type\":\"scattermapbox\",\"marker\":{\"colorbar\":{\"outlinewidth\":0,\"ticks\":\"\"}}}],\"scatterternary\":[{\"type\":\"scatterternary\",\"marker\":{\"colorbar\":{\"outlinewidth\":0,\"ticks\":\"\"}}}],\"scattercarpet\":[{\"type\":\"scattercarpet\",\"marker\":{\"colorbar\":{\"outlinewidth\":0,\"ticks\":\"\"}}}],\"carpet\":[{\"aaxis\":{\"endlinecolor\":\"#2a3f5f\",\"gridcolor\":\"white\",\"linecolor\":\"white\",\"minorgridcolor\":\"white\",\"startlinecolor\":\"#2a3f5f\"},\"baxis\":{\"endlinecolor\":\"#2a3f5f\",\"gridcolor\":\"white\",\"linecolor\":\"white\",\"minorgridcolor\":\"white\",\"startlinecolor\":\"#2a3f5f\"},\"type\":\"carpet\"}],\"table\":[{\"cells\":{\"fill\":{\"color\":\"#EBF0F8\"},\"line\":{\"color\":\"white\"}},\"header\":{\"fill\":{\"color\":\"#C8D4E3\"},\"line\":{\"color\":\"white\"}},\"type\":\"table\"}],\"barpolar\":[{\"marker\":{\"line\":{\"color\":\"#E5ECF6\",\"width\":0.5},\"pattern\":{\"fillmode\":\"overlay\",\"size\":10,\"solidity\":0.2}},\"type\":\"barpolar\"}],\"pie\":[{\"automargin\":true,\"type\":\"pie\"}]},\"layout\":{\"autotypenumbers\":\"strict\",\"colorway\":[\"#636efa\",\"#EF553B\",\"#00cc96\",\"#ab63fa\",\"#FFA15A\",\"#19d3f3\",\"#FF6692\",\"#B6E880\",\"#FF97FF\",\"#FECB52\"],\"font\":{\"color\":\"#2a3f5f\"},\"hovermode\":\"closest\",\"hoverlabel\":{\"align\":\"left\"},\"paper_bgcolor\":\"white\",\"plot_bgcolor\":\"#E5ECF6\",\"polar\":{\"bgcolor\":\"#E5ECF6\",\"angularaxis\":{\"gridcolor\":\"white\",\"linecolor\":\"white\",\"ticks\":\"\"},\"radialaxis\":{\"gridcolor\":\"white\",\"linecolor\":\"white\",\"ticks\":\"\"}},\"ternary\":{\"bgcolor\":\"#E5ECF6\",\"aaxis\":{\"gridcolor\":\"white\",\"linecolor\":\"white\",\"ticks\":\"\"},\"baxis\":{\"gridcolor\":\"white\",\"linecolor\":\"white\",\"ticks\":\"\"},\"caxis\":{\"gridcolor\":\"white\",\"linecolor\":\"white\",\"ticks\":\"\"}},\"coloraxis\":{\"colorbar\":{\"outlinewidth\":0,\"ticks\":\"\"}},\"colorscale\":{\"sequential\":[[0.0,\"#0d0887\"],[0.1111111111111111,\"#46039f\"],[0.2222222222222222,\"#7201a8\"],[0.3333333333333333,\"#9c179e\"],[0.4444444444444444,\"#bd3786\"],[0.5555555555555556,\"#d8576b\"],[0.6666666666666666,\"#ed7953\"],[0.7777777777777778,\"#fb9f3a\"],[0.8888888888888888,\"#fdca26\"],[1.0,\"#f0f921\"]],\"sequentialminus\":[[0.0,\"#0d0887\"],[0.1111111111111111,\"#46039f\"],[0.2222222222222222,\"#7201a8\"],[0.3333333333333333,\"#9c179e\"],[0.4444444444444444,\"#bd3786\"],[0.5555555555555556,\"#d8576b\"],[0.6666666666666666,\"#ed7953\"],[0.7777777777777778,\"#fb9f3a\"],[0.8888888888888888,\"#fdca26\"],[1.0,\"#f0f921\"]],\"diverging\":[[0,\"#8e0152\"],[0.1,\"#c51b7d\"],[0.2,\"#de77ae\"],[0.3,\"#f1b6da\"],[0.4,\"#fde0ef\"],[0.5,\"#f7f7f7\"],[0.6,\"#e6f5d0\"],[0.7,\"#b8e186\"],[0.8,\"#7fbc41\"],[0.9,\"#4d9221\"],[1,\"#276419\"]]},\"xaxis\":{\"gridcolor\":\"white\",\"linecolor\":\"white\",\"ticks\":\"\",\"title\":{\"standoff\":15},\"zerolinecolor\":\"white\",\"automargin\":true,\"zerolinewidth\":2},\"yaxis\":{\"gridcolor\":\"white\",\"linecolor\":\"white\",\"ticks\":\"\",\"title\":{\"standoff\":15},\"zerolinecolor\":\"white\",\"automargin\":true,\"zerolinewidth\":2},\"scene\":{\"xaxis\":{\"backgroundcolor\":\"#E5ECF6\",\"gridcolor\":\"white\",\"linecolor\":\"white\",\"showbackground\":true,\"ticks\":\"\",\"zerolinecolor\":\"white\",\"gridwidth\":2},\"yaxis\":{\"backgroundcolor\":\"#E5ECF6\",\"gridcolor\":\"white\",\"linecolor\":\"white\",\"showbackground\":true,\"ticks\":\"\",\"zerolinecolor\":\"white\",\"gridwidth\":2},\"zaxis\":{\"backgroundcolor\":\"#E5ECF6\",\"gridcolor\":\"white\",\"linecolor\":\"white\",\"showbackground\":true,\"ticks\":\"\",\"zerolinecolor\":\"white\",\"gridwidth\":2}},\"shapedefaults\":{\"line\":{\"color\":\"#2a3f5f\"}},\"annotationdefaults\":{\"arrowcolor\":\"#2a3f5f\",\"arrowhead\":0,\"arrowwidth\":1},\"geo\":{\"bgcolor\":\"white\",\"landcolor\":\"#E5ECF6\",\"subunitcolor\":\"white\",\"showland\":true,\"showlakes\":true,\"lakecolor\":\"white\"},\"title\":{\"x\":0.05},\"mapbox\":{\"style\":\"light\"}}},\"title\":{\"text\":\"Boxplot Using BMI Calculation on Regime A,B,C\"}},                        {\"responsive\": true}                    ).then(function(){\n",
       "                            \n",
       "var gd = document.getElementById('65e5b293-454e-43e5-9935-af7c55751c1f');\n",
       "var x = new MutationObserver(function (mutations, observer) {{\n",
       "        var display = window.getComputedStyle(gd).display;\n",
       "        if (!display || display === 'none') {{\n",
       "            console.log([gd, 'removed!']);\n",
       "            Plotly.purge(gd);\n",
       "            observer.disconnect();\n",
       "        }}\n",
       "}});\n",
       "\n",
       "// Listen for the removal of the full notebook cells\n",
       "var notebookContainer = gd.closest('#notebook-container');\n",
       "if (notebookContainer) {{\n",
       "    x.observe(notebookContainer, {childList: true});\n",
       "}}\n",
       "\n",
       "// Listen for the clearing of the current output cell\n",
       "var outputEl = gd.closest('.output');\n",
       "if (outputEl) {{\n",
       "    x.observe(outputEl, {childList: true});\n",
       "}}\n",
       "\n",
       "                        })                };                });            </script>        </div>"
      ]
     },
     "metadata": {},
     "output_type": "display_data"
    }
   ],
   "source": [
    "fig = go.Figure()\n",
    "\n",
    "fig.add_trace(go.Box(y=data[data.Regime == 'A'].BMI_calculation.values, name = \"Regime_A\"))\n",
    "fig.add_trace(go.Box(y=data[data.Regime == 'B'].BMI_calculation.values, name = \"Regime_B\"))\n",
    "fig.add_trace(go.Box(y=data[data.Regime == 'C'].BMI_calculation.values, name = \"Regime_C\"))\n",
    "\n",
    "fig.update_layout(title='Boxplot Using BMI Calculation on Regime A,B,C')\n",
    "\n",
    "fig.show()"
   ]
  },
  {
   "cell_type": "markdown",
   "id": "f6a1193b",
   "metadata": {},
   "source": [
    "# Checking BMI change results on different Regime. \n",
    "\n",
    "## It seems like the third Regime is more effective (box is higher than 1 and 2). \n",
    "\n",
    "## I will check it with ANOVA analysis. \n",
    "\n",
    "### H0: Regime A, Regime B and Regime C affect weight loss equally. \n",
    "\n",
    "### H1: Regime A, Regime B and Regime C \n"
   ]
  },
  {
   "cell_type": "markdown",
   "id": "06a93d6f",
   "metadata": {},
   "source": [
    "# Starting of Q5"
   ]
  },
  {
   "cell_type": "code",
   "execution_count": 204,
   "id": "fec8d4e6",
   "metadata": {},
   "outputs": [
    {
     "data": {
      "image/png": "[encoded data removed]",
      "text/plain": [
       "<Figure size 640x480 with 1 Axes>"
      ]
     },
     "metadata": {},
     "output_type": "display_data"
    }
   ],
   "source": [
    "measurements = np.random.normal(loc = 20, scale = 5, size=100)   \n",
    "stats.probplot(measurements, dist=\"norm\", plot=py)\n",
    "py.show()"
   ]
  },
  {
   "cell_type": "markdown",
   "id": "c272c1de",
   "metadata": {},
   "source": [
    "# Starting of Q6"
   ]
  },
  {
   "cell_type": "markdown",
   "id": "5ab14d65",
   "metadata": {},
   "source": [
    "#### In ANOVA and Design of Experiments, a balanced design has an equal number of observations for all possible level combinations. This is compared to an unbalanced design, which has an unequal number of observations. Levels (sometimes called groups) are different groups of observations for the same independent variable.\n",
    "\n",
    " ### For ex: A,B,C Regime has equally number of variables, then this proves that it is a test balanced anova.\n"
   ]
  },
  {
   "cell_type": "markdown",
   "id": "e3338299",
   "metadata": {},
   "source": [
    "# Starting of Q7"
   ]
  },
  {
   "cell_type": "markdown",
   "id": "f7e6ab3b",
   "metadata": {},
   "source": [
    "### 1.\tThe dependent variable (the variable of interest) needs to be a continuous scale\n",
    "### 2.\tThe data must have homogeneity of variances.\n",
    "### 3.\tThe dependent variable should be normally or near-to-normally distributed for each group.\n"
   ]
  },
  {
   "cell_type": "markdown",
   "id": "6b4cbaae",
   "metadata": {},
   "source": [
    "# Starting of Q8"
   ]
  },
  {
   "cell_type": "code",
   "execution_count": 205,
   "id": "1a4abdf4",
   "metadata": {},
   "outputs": [],
   "source": [
    "import pandas as pd\n",
    "import researchpy as rp"
   ]
  },
  {
   "cell_type": "markdown",
   "id": "7290b44b",
   "metadata": {},
   "source": [
    "## Fisher's one way Anova"
   ]
  },
  {
   "cell_type": "code",
   "execution_count": 206,
   "id": "12e7a380",
   "metadata": {},
   "outputs": [
    {
     "name": "stdout",
     "output_type": "stream",
     "text": [
      "\n",
      "\n"
     ]
    },
    {
     "data": {
      "text/html": [
       "<div><div id=c4cfd5c8-ded6-4509-8188-07c07c998268 style=\"display:none; background-color:#9D6CFF; color:white; width:200px; height:30px; padding-left:5px; border-radius:4px; flex-direction:row; justify-content:space-around; align-items:center;\" onmouseover=\"this.style.backgroundColor='#BA9BF8'\" onmouseout=\"this.style.backgroundColor='#9D6CFF'\" onclick=\"window.commands?.execute('create-mitosheet-from-dataframe-output');\">See Full Dataframe in Mito</div> <script> if (window.commands?.hasCommand('create-mitosheet-from-dataframe-output')) document.getElementById('c4cfd5c8-ded6-4509-8188-07c07c998268').style.display = 'flex' </script> <table border=\"1\" class=\"dataframe\">\n",
       "  <thead>\n",
       "    <tr style=\"text-align: right;\">\n",
       "      <th></th>\n",
       "      <th>Variable</th>\n",
       "      <th>N</th>\n",
       "      <th>Mean</th>\n",
       "      <th>SD</th>\n",
       "      <th>SE</th>\n",
       "      <th>95% Conf.</th>\n",
       "      <th>Interval</th>\n",
       "    </tr>\n",
       "  </thead>\n",
       "  <tbody>\n",
       "    <tr>\n",
       "      <th>0</th>\n",
       "      <td>Wt_ loss/gain</td>\n",
       "      <td>84.0</td>\n",
       "      <td>3.8214</td>\n",
       "      <td>2.5604</td>\n",
       "      <td>0.2794</td>\n",
       "      <td>3.2658</td>\n",
       "      <td>4.3771</td>\n",
       "    </tr>\n",
       "  </tbody>\n",
       "</table></div>"
      ],
      "text/plain": [
       "        Variable     N    Mean      SD      SE  95% Conf.  Interval\n",
       "0  Wt_ loss/gain  84.0  3.8214  2.5604  0.2794     3.2658    4.3771"
      ]
     },
     "execution_count": 206,
     "metadata": {},
     "output_type": "execute_result"
    }
   ],
   "source": [
    "rp.summary_cont(data['Wt_ loss/gain'])"
   ]
  },
  {
   "cell_type": "code",
   "execution_count": 207,
   "id": "b43525f7",
   "metadata": {},
   "outputs": [
    {
     "name": "stdout",
     "output_type": "stream",
     "text": [
      "\n",
      "\n"
     ]
    },
    {
     "data": {
      "text/html": [
       "<div><div id=cdd3bf93-a94a-4e7c-a9bf-d70037b411c4 style=\"display:none; background-color:#9D6CFF; color:white; width:200px; height:30px; padding-left:5px; border-radius:4px; flex-direction:row; justify-content:space-around; align-items:center;\" onmouseover=\"this.style.backgroundColor='#BA9BF8'\" onmouseout=\"this.style.backgroundColor='#9D6CFF'\" onclick=\"window.commands?.execute('create-mitosheet-from-dataframe-output');\">See Full Dataframe in Mito</div> <script> if (window.commands?.hasCommand('create-mitosheet-from-dataframe-output')) document.getElementById('cdd3bf93-a94a-4e7c-a9bf-d70037b411c4').style.display = 'flex' </script> <table border=\"1\" class=\"dataframe\">\n",
       "  <thead>\n",
       "    <tr style=\"text-align: right;\">\n",
       "      <th></th>\n",
       "      <th>N</th>\n",
       "      <th>Mean</th>\n",
       "      <th>SD</th>\n",
       "      <th>SE</th>\n",
       "      <th>95% Conf.</th>\n",
       "      <th>Interval</th>\n",
       "    </tr>\n",
       "    <tr>\n",
       "      <th>Regime</th>\n",
       "      <th></th>\n",
       "      <th></th>\n",
       "      <th></th>\n",
       "      <th></th>\n",
       "      <th></th>\n",
       "      <th></th>\n",
       "    </tr>\n",
       "  </thead>\n",
       "  <tbody>\n",
       "    <tr>\n",
       "      <th>A</th>\n",
       "      <td>28</td>\n",
       "      <td>2.9500</td>\n",
       "      <td>2.4669</td>\n",
       "      <td>0.4662</td>\n",
       "      <td>1.9934</td>\n",
       "      <td>3.9066</td>\n",
       "    </tr>\n",
       "    <tr>\n",
       "      <th>B</th>\n",
       "      <td>28</td>\n",
       "      <td>3.3643</td>\n",
       "      <td>2.4655</td>\n",
       "      <td>0.4659</td>\n",
       "      <td>2.4083</td>\n",
       "      <td>4.3203</td>\n",
       "    </tr>\n",
       "    <tr>\n",
       "      <th>C</th>\n",
       "      <td>28</td>\n",
       "      <td>5.1500</td>\n",
       "      <td>2.2700</td>\n",
       "      <td>0.4290</td>\n",
       "      <td>4.2698</td>\n",
       "      <td>6.0302</td>\n",
       "    </tr>\n",
       "  </tbody>\n",
       "</table></div>"
      ],
      "text/plain": [
       "         N    Mean      SD      SE  95% Conf.  Interval\n",
       "Regime                                                 \n",
       "A       28  2.9500  2.4669  0.4662     1.9934    3.9066\n",
       "B       28  3.3643  2.4655  0.4659     2.4083    4.3203\n",
       "C       28  5.1500  2.2700  0.4290     4.2698    6.0302"
      ]
     },
     "execution_count": 207,
     "metadata": {},
     "output_type": "execute_result"
    }
   ],
   "source": [
    "rp.summary_cont(data['Wt_ loss/gain'].groupby(data['Regime']))"
   ]
  },
  {
   "cell_type": "markdown",
   "id": "5ee83da3",
   "metadata": {},
   "source": [
    "## Starting of Welch one way Anova"
   ]
  },
  {
   "cell_type": "code",
   "execution_count": 208,
   "id": "b12aaefd",
   "metadata": {},
   "outputs": [],
   "source": [
    "import scipy.stats as stats"
   ]
  },
  {
   "cell_type": "code",
   "execution_count": 209,
   "id": "5c4cf130",
   "metadata": {},
   "outputs": [
    {
     "data": {
      "text/plain": [
       "BartlettResult(statistic=0.23869461531168681, pvalue=0.8874995118544757)"
      ]
     },
     "execution_count": 209,
     "metadata": {},
     "output_type": "execute_result"
    }
   ],
   "source": [
    "# perform Bartlett's test\n",
    "stats.bartlett(Regime_A, Regime_B, Regime_C)"
   ]
  },
  {
   "cell_type": "code",
   "execution_count": 210,
   "id": "8efe25c6",
   "metadata": {},
   "outputs": [],
   "source": [
    "# P value is greater than alpha =0.05, So we can not reject null hypothesis\n",
    "# we can proceed to perform Welch’s ANOVA."
   ]
  },
  {
   "cell_type": "code",
   "execution_count": 211,
   "id": "82058aed",
   "metadata": {},
   "outputs": [],
   "source": [
    "import pingouin as pg\n",
    "import pandas as pd\n",
    "import numpy as np"
   ]
  },
  {
   "cell_type": "code",
   "execution_count": 212,
   "id": "739a37a9",
   "metadata": {},
   "outputs": [],
   "source": [
    "df = pd.DataFrame({'Regime': [-1,-1.1,-0.6,-0.2,0.2,1,1.2,1.3,1.4,1.5,2.6,2,2.9,2.7,3,3.2,3.6,3.7,3.8,4,4.6,4.8,4.5,5.7,5.8,6.1,7.9,8,\n",
    "                             -1.8,-1,-0.5,0.1,0.6,1.7,2.2,2,2,2.4,2.7,3,3.2,3.3,3.5,4,4.2,4.3,4.4,4.7,4.8,4.8,5.8,5.9,6,6.5,7.5,7.9,\n",
    "                              1.5,1.2,1,2.7,2.9,2.8,3.5,3.5,4,4,4.1,4.5,4.9,5.1,5.2,5.9,6.2,6.3,6.7,6.5,6.8,6.8,7,7.3,7.6,7.8,8.9,9.5],\n",
    "                   'group': np.repeat(['Regime_A','Regime_B','Regime_C'],\n",
    "                                      repeats=28)})"
   ]
  },
  {
   "cell_type": "code",
   "execution_count": 213,
   "id": "8ba87bba",
   "metadata": {},
   "outputs": [
    {
     "data": {
      "text/html": [
       "<div><div id=8953cedb-6bae-4665-a1c9-36b99ef3e93a style=\"display:none; background-color:#9D6CFF; color:white; width:200px; height:30px; padding-left:5px; border-radius:4px; flex-direction:row; justify-content:space-around; align-items:center;\" onmouseover=\"this.style.backgroundColor='#BA9BF8'\" onmouseout=\"this.style.backgroundColor='#9D6CFF'\" onclick=\"window.commands?.execute('create-mitosheet-from-dataframe-output');\">See Full Dataframe in Mito</div> <script> if (window.commands?.hasCommand('create-mitosheet-from-dataframe-output')) document.getElementById('8953cedb-6bae-4665-a1c9-36b99ef3e93a').style.display = 'flex' </script> <table border=\"1\" class=\"dataframe\">\n",
       "  <thead>\n",
       "    <tr style=\"text-align: right;\">\n",
       "      <th></th>\n",
       "      <th>Source</th>\n",
       "      <th>ddof1</th>\n",
       "      <th>ddof2</th>\n",
       "      <th>F</th>\n",
       "      <th>p-unc</th>\n",
       "      <th>np2</th>\n",
       "    </tr>\n",
       "  </thead>\n",
       "  <tbody>\n",
       "    <tr>\n",
       "      <th>0</th>\n",
       "      <td>group</td>\n",
       "      <td>2</td>\n",
       "      <td>53.913344</td>\n",
       "      <td>6.896976</td>\n",
       "      <td>0.002152</td>\n",
       "      <td>0.140667</td>\n",
       "    </tr>\n",
       "  </tbody>\n",
       "</table></div>"
      ],
      "text/plain": [
       "  Source  ddof1      ddof2         F     p-unc       np2\n",
       "0  group      2  53.913344  6.896976  0.002152  0.140667"
      ]
     },
     "execution_count": 213,
     "metadata": {},
     "output_type": "execute_result"
    }
   ],
   "source": [
    "# perform Welch's ANOVA\n",
    "pg.welch_anova(dv='Regime', between='group', data=df)"
   ]
  },
  {
   "cell_type": "markdown",
   "id": "86eaa48a",
   "metadata": {},
   "source": [
    "## Starting of Kruskal-Wallis one way Anova"
   ]
  },
  {
   "cell_type": "code",
   "execution_count": 214,
   "id": "7f248816",
   "metadata": {},
   "outputs": [],
   "source": [
    "#Enter the data\n",
    "Regime_A = [-1, -1.1,-0.6,-0.2,0.2,1,1.2,1.3,1.4,1.5,2.6,2,2.9,2.7,3,3.2,3.6,3.7,3.8,4,4.6,4.8,4.5,5.7,5.8,6.1,7.9,8]\n",
    "\n",
    "Regime_B = [-1.8,-1,-0.5,0.1,0.6,1.7,2.2,2,2,2.4,2.7,3,3.2,3.3,3.5,4,4.2,4.3,4.4,4.7,4.8,4.8,5.8,5.9,6,6.5,7.5,7.9]\n",
    "\n",
    "Regime_C = [1.5,1.2,1,2.7,2.9,2.8,3.5,3.5,4,4,4.1,4.5,4.9,5.1,5.2,5.9,6.2,6.3,6.7,6.5,6.8,6.8,7,7.3,7.6,7.8,8.9,9.5]"
   ]
  },
  {
   "cell_type": "code",
   "execution_count": 215,
   "id": "60558f07",
   "metadata": {},
   "outputs": [
    {
     "data": {
      "text/plain": [
       "KruskalResult(statistic=11.271047087540904, pvalue=0.003568808316669004)"
      ]
     },
     "execution_count": 215,
     "metadata": {},
     "output_type": "execute_result"
    }
   ],
   "source": [
    "#Perform the Kruskal-Wallis Test.\n",
    "from scipy import stats\n",
    "\n",
    "#perform Kruskal-Wallis Test \n",
    "stats.kruskal(Regime_A, Regime_B, Regime_C)\n",
    "\n"
   ]
  },
  {
   "cell_type": "markdown",
   "id": "7da00761",
   "metadata": {},
   "source": [
    "DoF =2\n",
    "\n",
    "Conclusion:\n",
    "No, All diet regimes are not same\n"
   ]
  },
  {
   "cell_type": "markdown",
   "id": "77ac06ba",
   "metadata": {},
   "source": [
    "# Fisher’s LSD Test"
   ]
  },
  {
   "attachments": {
    "image.png": {
     "image/png": "[encoded data removed]"
    }
   },
   "cell_type": "markdown",
   "id": "ee0aa55f",
   "metadata": {},
   "source": [
    "![image.png](attachment:image.png)"
   ]
  },
  {
   "cell_type": "markdown",
   "id": "0fca9153",
   "metadata": {},
   "source": [
    "## We can conclude that, Regime A Vs Regime C and Regime B Vs Regime C are greater than LSD value ,thus we can conclude that these Regimes lead to statistically significantly different mean weight scores."
   ]
  },
  {
   "cell_type": "markdown",
   "id": "55ed9d6c",
   "metadata": {},
   "source": [
    "# Starting of Q9"
   ]
  },
  {
   "cell_type": "code",
   "execution_count": 12,
   "id": "897ffdd2",
   "metadata": {},
   "outputs": [],
   "source": [
    "#create data\n",
    "df = pd.DataFrame(data,columns = ['Regime', 'Gender','Wt_ loss/gain'])\n",
    "df.rename(columns = {'Wt_ loss/gain':'Weight_Loss_Gain'}, inplace = True)"
   ]
  },
  {
   "cell_type": "code",
   "execution_count": 13,
   "id": "78c5e79f",
   "metadata": {},
   "outputs": [
    {
     "data": {
      "text/html": [
       "<div>\n",
       "<style scoped>\n",
       "    .dataframe tbody tr th:only-of-type {\n",
       "        vertical-align: middle;\n",
       "    }\n",
       "\n",
       "    .dataframe tbody tr th {\n",
       "        vertical-align: top;\n",
       "    }\n",
       "\n",
       "    .dataframe thead th {\n",
       "        text-align: right;\n",
       "    }\n",
       "</style>\n",
       "<table border=\"1\" class=\"dataframe\">\n",
       "  <thead>\n",
       "    <tr style=\"text-align: right;\">\n",
       "      <th></th>\n",
       "      <th>Regime</th>\n",
       "      <th>Gender</th>\n",
       "      <th>Weight_Loss_Gain</th>\n",
       "    </tr>\n",
       "  </thead>\n",
       "  <tbody>\n",
       "    <tr>\n",
       "      <th>0</th>\n",
       "      <td>A</td>\n",
       "      <td>Female</td>\n",
       "      <td>-1.0</td>\n",
       "    </tr>\n",
       "    <tr>\n",
       "      <th>1</th>\n",
       "      <td>A</td>\n",
       "      <td>Male</td>\n",
       "      <td>-1.1</td>\n",
       "    </tr>\n",
       "    <tr>\n",
       "      <th>2</th>\n",
       "      <td>A</td>\n",
       "      <td>Male</td>\n",
       "      <td>-0.6</td>\n",
       "    </tr>\n",
       "    <tr>\n",
       "      <th>3</th>\n",
       "      <td>A</td>\n",
       "      <td>Male</td>\n",
       "      <td>-0.2</td>\n",
       "    </tr>\n",
       "    <tr>\n",
       "      <th>4</th>\n",
       "      <td>A</td>\n",
       "      <td>Male</td>\n",
       "      <td>0.2</td>\n",
       "    </tr>\n",
       "    <tr>\n",
       "      <th>...</th>\n",
       "      <td>...</td>\n",
       "      <td>...</td>\n",
       "      <td>...</td>\n",
       "    </tr>\n",
       "    <tr>\n",
       "      <th>79</th>\n",
       "      <td>C</td>\n",
       "      <td>Female</td>\n",
       "      <td>7.3</td>\n",
       "    </tr>\n",
       "    <tr>\n",
       "      <th>80</th>\n",
       "      <td>C</td>\n",
       "      <td>Female</td>\n",
       "      <td>7.6</td>\n",
       "    </tr>\n",
       "    <tr>\n",
       "      <th>81</th>\n",
       "      <td>C</td>\n",
       "      <td>Female</td>\n",
       "      <td>7.8</td>\n",
       "    </tr>\n",
       "    <tr>\n",
       "      <th>82</th>\n",
       "      <td>C</td>\n",
       "      <td>Male</td>\n",
       "      <td>8.9</td>\n",
       "    </tr>\n",
       "    <tr>\n",
       "      <th>83</th>\n",
       "      <td>C</td>\n",
       "      <td>Male</td>\n",
       "      <td>9.5</td>\n",
       "    </tr>\n",
       "  </tbody>\n",
       "</table>\n",
       "<p>84 rows × 3 columns</p>\n",
       "</div>"
      ],
      "text/plain": [
       "   Regime  Gender  Weight_Loss_Gain\n",
       "0       A  Female              -1.0\n",
       "1       A    Male              -1.1\n",
       "2       A    Male              -0.6\n",
       "3       A    Male              -0.2\n",
       "4       A    Male               0.2\n",
       "..    ...     ...               ...\n",
       "79      C  Female               7.3\n",
       "80      C  Female               7.6\n",
       "81      C  Female               7.8\n",
       "82      C    Male               8.9\n",
       "83      C    Male               9.5\n",
       "\n",
       "[84 rows x 3 columns]"
      ]
     },
     "execution_count": 13,
     "metadata": {},
     "output_type": "execute_result"
    }
   ],
   "source": [
    "df"
   ]
  },
  {
   "cell_type": "code",
   "execution_count": 14,
   "id": "47f3ff70",
   "metadata": {},
   "outputs": [],
   "source": [
    "import statsmodels.api as sm\n",
    "from statsmodels.formula.api import ols"
   ]
  },
  {
   "cell_type": "code",
   "execution_count": 15,
   "id": "06e16bd8",
   "metadata": {
    "scrolled": true
   },
   "outputs": [
    {
     "data": {
      "text/html": [
       "<div>\n",
       "<style scoped>\n",
       "    .dataframe tbody tr th:only-of-type {\n",
       "        vertical-align: middle;\n",
       "    }\n",
       "\n",
       "    .dataframe tbody tr th {\n",
       "        vertical-align: top;\n",
       "    }\n",
       "\n",
       "    .dataframe thead th {\n",
       "        text-align: right;\n",
       "    }\n",
       "</style>\n",
       "<table border=\"1\" class=\"dataframe\">\n",
       "  <thead>\n",
       "    <tr style=\"text-align: right;\">\n",
       "      <th></th>\n",
       "      <th>sum_sq</th>\n",
       "      <th>df</th>\n",
       "      <th>F</th>\n",
       "      <th>PR(&gt;F)</th>\n",
       "    </tr>\n",
       "  </thead>\n",
       "  <tbody>\n",
       "    <tr>\n",
       "      <th>C(Regime)</th>\n",
       "      <td>76.537143</td>\n",
       "      <td>2.0</td>\n",
       "      <td>6.824879</td>\n",
       "      <td>0.001856</td>\n",
       "    </tr>\n",
       "    <tr>\n",
       "      <th>C(Gender)</th>\n",
       "      <td>0.964286</td>\n",
       "      <td>1.0</td>\n",
       "      <td>0.171972</td>\n",
       "      <td>0.679503</td>\n",
       "    </tr>\n",
       "    <tr>\n",
       "      <th>C(Regime):C(Gender)</th>\n",
       "      <td>29.237143</td>\n",
       "      <td>2.0</td>\n",
       "      <td>2.607100</td>\n",
       "      <td>0.080166</td>\n",
       "    </tr>\n",
       "    <tr>\n",
       "      <th>Residual</th>\n",
       "      <td>437.362857</td>\n",
       "      <td>78.0</td>\n",
       "      <td>NaN</td>\n",
       "      <td>NaN</td>\n",
       "    </tr>\n",
       "  </tbody>\n",
       "</table>\n",
       "</div>"
      ],
      "text/plain": [
       "                         sum_sq    df         F    PR(>F)\n",
       "C(Regime)             76.537143   2.0  6.824879  0.001856\n",
       "C(Gender)              0.964286   1.0  0.171972  0.679503\n",
       "C(Regime):C(Gender)   29.237143   2.0  2.607100  0.080166\n",
       "Residual             437.362857  78.0       NaN       NaN"
      ]
     },
     "execution_count": 15,
     "metadata": {},
     "output_type": "execute_result"
    }
   ],
   "source": [
    "#perform two-way ANOVA\n",
    "model = ols('Weight_Loss_Gain ~ C(Regime) + C(Gender) + C(Regime):C(Gender)', data=df).fit()\n",
    "sm.stats.anova_lm(model, typ=2)"
   ]
  },
  {
   "cell_type": "markdown",
   "id": "dedbc987",
   "metadata": {},
   "source": [
    "## Conclusion based on the results"
   ]
  },
  {
   "cell_type": "markdown",
   "id": "8de917ff",
   "metadata": {},
   "source": [
    "We can see the following p-values for each of the factors in the table:\n",
    "\n",
    "Regime: p-value = 0.001856\n",
    "Gender: p-value = 0.679503\n",
    "Interaction(Regime*Gender): p-value = 0.080166\n",
    "\n",
    "\n",
    "Since the p-values for Regime is less than .05 and Gender is greater than .05, this means that both factors doesn't have  statistically significant effect on weight loss/gain.\n",
    "\n",
    "And since the p-value for the interaction effect (0.080166) is not less than .05, this tells us that there is no significant interaction effect between Regime and Gender."
   ]
  },
  {
   "cell_type": "markdown",
   "id": "e793a57e",
   "metadata": {},
   "source": [
    "# Starting of Q10"
   ]
  },
  {
   "cell_type": "code",
   "execution_count": 16,
   "id": "537b921b",
   "metadata": {},
   "outputs": [
    {
     "data": {
      "text/html": [
       "<div>\n",
       "<style scoped>\n",
       "    .dataframe tbody tr th:only-of-type {\n",
       "        vertical-align: middle;\n",
       "    }\n",
       "\n",
       "    .dataframe tbody tr th {\n",
       "        vertical-align: top;\n",
       "    }\n",
       "\n",
       "    .dataframe thead th {\n",
       "        text-align: right;\n",
       "    }\n",
       "</style>\n",
       "<table border=\"1\" class=\"dataframe\">\n",
       "  <thead>\n",
       "    <tr style=\"text-align: right;\">\n",
       "      <th>Gender</th>\n",
       "      <th>Female</th>\n",
       "      <th>Male</th>\n",
       "    </tr>\n",
       "    <tr>\n",
       "      <th>Regime</th>\n",
       "      <th></th>\n",
       "      <th></th>\n",
       "    </tr>\n",
       "  </thead>\n",
       "  <tbody>\n",
       "    <tr>\n",
       "      <th>A</th>\n",
       "      <td>14</td>\n",
       "      <td>14</td>\n",
       "    </tr>\n",
       "    <tr>\n",
       "      <th>B</th>\n",
       "      <td>14</td>\n",
       "      <td>14</td>\n",
       "    </tr>\n",
       "    <tr>\n",
       "      <th>C</th>\n",
       "      <td>14</td>\n",
       "      <td>14</td>\n",
       "    </tr>\n",
       "  </tbody>\n",
       "</table>\n",
       "</div>"
      ],
      "text/plain": [
       "Gender  Female  Male\n",
       "Regime              \n",
       "A           14    14\n",
       "B           14    14\n",
       "C           14    14"
      ]
     },
     "execution_count": 16,
     "metadata": {},
     "output_type": "execute_result"
    }
   ],
   "source": [
    "pd.crosstab(index=df[\"Regime\"], columns=df[\"Gender\"],margins=False)"
   ]
  },
  {
   "cell_type": "markdown",
   "id": "53f9dd79",
   "metadata": {},
   "source": [
    "### Indicating that our design is completely crossed, it turns out that there are an equal number of people in each group"
   ]
  },
  {
   "cell_type": "markdown",
   "id": "b24a17f3",
   "metadata": {},
   "source": [
    "# Starting of Q11"
   ]
  },
  {
   "cell_type": "code",
   "execution_count": 37,
   "id": "50f4de57",
   "metadata": {},
   "outputs": [],
   "source": [
    "df['Gender'].replace(['Female','Male'],[0,1],inplace=True)\n",
    "df['Regime'].replace(['A','B','C'],[0,1,2],inplace=True)\n",
    "\n",
    "X = df[['Regime', 'Gender']]\n",
    "y = df['Weight_Loss_Gain']\n",
    "#Divided Quantitative varibales into x and y object"
   ]
  },
  {
   "cell_type": "code",
   "execution_count": 38,
   "id": "24126955",
   "metadata": {},
   "outputs": [],
   "source": [
    "from sklearn.model_selection import train_test_split"
   ]
  },
  {
   "cell_type": "code",
   "execution_count": 39,
   "id": "0f38b6ee",
   "metadata": {},
   "outputs": [],
   "source": [
    "X_train, X_test, Y_train, Y_test = train_test_split(X, y, test_size=0.4, random_state=101,)\n",
    "#Training Test Split"
   ]
  },
  {
   "cell_type": "code",
   "execution_count": 40,
   "id": "2d9d8c93",
   "metadata": {},
   "outputs": [],
   "source": [
    "from sklearn.linear_model import LinearRegression\n",
    "#importing LR method"
   ]
  },
  {
   "cell_type": "code",
   "execution_count": 41,
   "id": "a22c03d8",
   "metadata": {},
   "outputs": [],
   "source": [
    "lm = LinearRegression()\n",
    "#Using LR method()"
   ]
  },
  {
   "cell_type": "code",
   "execution_count": 42,
   "id": "3e8baf17",
   "metadata": {},
   "outputs": [
    {
     "data": {
      "text/plain": [
       "LinearRegression()"
      ]
     },
     "execution_count": 42,
     "metadata": {},
     "output_type": "execute_result"
    }
   ],
   "source": [
    "lm.fit(X_train,Y_train)"
   ]
  },
  {
   "cell_type": "code",
   "execution_count": 43,
   "id": "f2fa0efb",
   "metadata": {
    "scrolled": true
   },
   "outputs": [
    {
     "name": "stdout",
     "output_type": "stream",
     "text": [
      "Intercept : 2.233943427620632\n",
      "Slope : [ 1.3671173  -0.69767055]\n"
     ]
    }
   ],
   "source": [
    "# Intercept value\n",
    "print(\"Intercept :\",lm.intercept_)\n",
    "\n",
    "# Slope value\n",
    "print('Slope :',lm.coef_)"
   ]
  },
  {
   "cell_type": "markdown",
   "id": "1867afde",
   "metadata": {},
   "source": [
    "## The straight-line equation we get for the above values is\n",
    "#### Weight_Loss_Gain = 2.23394 + 1.36711*Regime + (-0.69767)*Gender"
   ]
  },
  {
   "cell_type": "code",
   "execution_count": 44,
   "id": "90bfff88",
   "metadata": {},
   "outputs": [
    {
     "data": {
      "text/html": [
       "<div>\n",
       "<style scoped>\n",
       "    .dataframe tbody tr th:only-of-type {\n",
       "        vertical-align: middle;\n",
       "    }\n",
       "\n",
       "    .dataframe tbody tr th {\n",
       "        vertical-align: top;\n",
       "    }\n",
       "\n",
       "    .dataframe thead th {\n",
       "        text-align: right;\n",
       "    }\n",
       "</style>\n",
       "<table border=\"1\" class=\"dataframe\">\n",
       "  <thead>\n",
       "    <tr style=\"text-align: right;\">\n",
       "      <th></th>\n",
       "      <th>Coefficient</th>\n",
       "    </tr>\n",
       "  </thead>\n",
       "  <tbody>\n",
       "    <tr>\n",
       "      <th>Regime</th>\n",
       "      <td>1.367117</td>\n",
       "    </tr>\n",
       "    <tr>\n",
       "      <th>Gender</th>\n",
       "      <td>-0.697671</td>\n",
       "    </tr>\n",
       "  </tbody>\n",
       "</table>\n",
       "</div>"
      ],
      "text/plain": [
       "        Coefficient\n",
       "Regime     1.367117\n",
       "Gender    -0.697671"
      ]
     },
     "execution_count": 44,
     "metadata": {},
     "output_type": "execute_result"
    }
   ],
   "source": [
    "coeff_df = pd.DataFrame(lm.coef_,X.columns,columns=['Coefficient'])\n",
    "coeff_df"
   ]
  },
  {
   "cell_type": "code",
   "execution_count": 45,
   "id": "5ef61bb6",
   "metadata": {},
   "outputs": [],
   "source": [
    "import statsmodels.api as sm"
   ]
  },
  {
   "cell_type": "code",
   "execution_count": 47,
   "id": "15c8f29e",
   "metadata": {},
   "outputs": [],
   "source": [
    "# Adding a constant to get an intercept\n",
    "X_train_sm = sm.add_constant(X_train)\n",
    "# Fitting the resgression line using 'OLS'\n",
    "lr = sm.OLS(Y_train, X_train_sm).fit()"
   ]
  },
  {
   "cell_type": "code",
   "execution_count": 27,
   "id": "a655df8d",
   "metadata": {},
   "outputs": [
    {
     "data": {
      "text/plain": [
       "const     2.233943\n",
       "Regime    1.367117\n",
       "Gender   -0.697671\n",
       "dtype: float64"
      ]
     },
     "execution_count": 27,
     "metadata": {},
     "output_type": "execute_result"
    }
   ],
   "source": [
    "lr.params"
   ]
  },
  {
   "cell_type": "code",
   "execution_count": 28,
   "id": "d9e0a51d",
   "metadata": {},
   "outputs": [
    {
     "data": {
      "text/html": [
       "<table class=\"simpletable\">\n",
       "<caption>OLS Regression Results</caption>\n",
       "<tr>\n",
       "  <th>Dep. Variable:</th>    <td>Weight_Loss_Gain</td> <th>  R-squared:         </th> <td>   0.238</td>\n",
       "</tr>\n",
       "<tr>\n",
       "  <th>Model:</th>                   <td>OLS</td>       <th>  Adj. R-squared:    </th> <td>   0.206</td>\n",
       "</tr>\n",
       "<tr>\n",
       "  <th>Method:</th>             <td>Least Squares</td>  <th>  F-statistic:       </th> <td>   7.348</td>\n",
       "</tr>\n",
       "<tr>\n",
       "  <th>Date:</th>             <td>Sat, 12 Nov 2022</td> <th>  Prob (F-statistic):</th>  <td>0.00167</td>\n",
       "</tr>\n",
       "<tr>\n",
       "  <th>Time:</th>                 <td>10:27:42</td>     <th>  Log-Likelihood:    </th> <td> -105.69</td>\n",
       "</tr>\n",
       "<tr>\n",
       "  <th>No. Observations:</th>      <td>    50</td>      <th>  AIC:               </th> <td>   217.4</td>\n",
       "</tr>\n",
       "<tr>\n",
       "  <th>Df Residuals:</th>          <td>    47</td>      <th>  BIC:               </th> <td>   223.1</td>\n",
       "</tr>\n",
       "<tr>\n",
       "  <th>Df Model:</th>              <td>     2</td>      <th>                     </th>     <td> </td>   \n",
       "</tr>\n",
       "<tr>\n",
       "  <th>Covariance Type:</th>      <td>nonrobust</td>    <th>                     </th>     <td> </td>   \n",
       "</tr>\n",
       "</table>\n",
       "<table class=\"simpletable\">\n",
       "<tr>\n",
       "     <td></td>       <th>coef</th>     <th>std err</th>      <th>t</th>      <th>P>|t|</th>  <th>[0.025</th>    <th>0.975]</th>  \n",
       "</tr>\n",
       "<tr>\n",
       "  <th>const</th>  <td>    2.2339</td> <td>    0.526</td> <td>    4.244</td> <td> 0.000</td> <td>    1.175</td> <td>    3.293</td>\n",
       "</tr>\n",
       "<tr>\n",
       "  <th>Regime</th> <td>    1.3671</td> <td>    0.362</td> <td>    3.781</td> <td> 0.000</td> <td>    0.640</td> <td>    2.095</td>\n",
       "</tr>\n",
       "<tr>\n",
       "  <th>Gender</th> <td>   -0.6977</td> <td>    0.608</td> <td>   -1.148</td> <td> 0.257</td> <td>   -1.920</td> <td>    0.525</td>\n",
       "</tr>\n",
       "</table>\n",
       "<table class=\"simpletable\">\n",
       "<tr>\n",
       "  <th>Omnibus:</th>       <td> 1.664</td> <th>  Durbin-Watson:     </th> <td>   1.784</td>\n",
       "</tr>\n",
       "<tr>\n",
       "  <th>Prob(Omnibus):</th> <td> 0.435</td> <th>  Jarque-Bera (JB):  </th> <td>   1.468</td>\n",
       "</tr>\n",
       "<tr>\n",
       "  <th>Skew:</th>          <td>-0.410</td> <th>  Prob(JB):          </th> <td>   0.480</td>\n",
       "</tr>\n",
       "<tr>\n",
       "  <th>Kurtosis:</th>      <td> 2.822</td> <th>  Cond. No.          </th> <td>    3.85</td>\n",
       "</tr>\n",
       "</table><br/><br/>Notes:<br/>[1] Standard Errors assume that the covariance matrix of the errors is correctly specified."
      ],
      "text/plain": [
       "<class 'statsmodels.iolib.summary.Summary'>\n",
       "\"\"\"\n",
       "                            OLS Regression Results                            \n",
       "==============================================================================\n",
       "Dep. Variable:       Weight_Loss_Gain   R-squared:                       0.238\n",
       "Model:                            OLS   Adj. R-squared:                  0.206\n",
       "Method:                 Least Squares   F-statistic:                     7.348\n",
       "Date:                Sat, 12 Nov 2022   Prob (F-statistic):            0.00167\n",
       "Time:                        10:27:42   Log-Likelihood:                -105.69\n",
       "No. Observations:                  50   AIC:                             217.4\n",
       "Df Residuals:                      47   BIC:                             223.1\n",
       "Df Model:                           2                                         \n",
       "Covariance Type:            nonrobust                                         \n",
       "==============================================================================\n",
       "                 coef    std err          t      P>|t|      [0.025      0.975]\n",
       "------------------------------------------------------------------------------\n",
       "const          2.2339      0.526      4.244      0.000       1.175       3.293\n",
       "Regime         1.3671      0.362      3.781      0.000       0.640       2.095\n",
       "Gender        -0.6977      0.608     -1.148      0.257      -1.920       0.525\n",
       "==============================================================================\n",
       "Omnibus:                        1.664   Durbin-Watson:                   1.784\n",
       "Prob(Omnibus):                  0.435   Jarque-Bera (JB):                1.468\n",
       "Skew:                          -0.410   Prob(JB):                        0.480\n",
       "Kurtosis:                       2.822   Cond. No.                         3.85\n",
       "==============================================================================\n",
       "\n",
       "Notes:\n",
       "[1] Standard Errors assume that the covariance matrix of the errors is correctly specified.\n",
       "\"\"\""
      ]
     },
     "execution_count": 28,
     "metadata": {},
     "output_type": "execute_result"
    }
   ],
   "source": [
    "lr.summary()"
   ]
  },
  {
   "cell_type": "markdown",
   "id": "31bfd205",
   "metadata": {},
   "source": []
  },
  {
   "cell_type": "markdown",
   "id": "330ca1d3",
   "metadata": {},
   "source": [
    "## Starting of Q12"
   ]
  },
  {
   "cell_type": "code",
   "execution_count": 250,
   "id": "1dc02475",
   "metadata": {},
   "outputs": [],
   "source": [
    "np.random.seed(12345)\n",
    "#create data\n",
    "df1 = pd.DataFrame(data,columns = ['Regime', 'Gender','Wt_ loss/gain'])\n",
    "df1.rename(columns = {'Wt_ loss/gain':'Weight_Loss_Gain'}, inplace = True)"
   ]
  },
  {
   "cell_type": "code",
   "execution_count": 252,
   "id": "6c00f032",
   "metadata": {},
   "outputs": [
    {
     "data": {
      "application/javascript": [
       "/* Put everything inside the global mpl namespace */\n",
       "/* global mpl */\n",
       "window.mpl = {};\n",
       "\n",
       "mpl.get_websocket_type = function () {\n",
       "    if (typeof WebSocket !== 'undefined') {\n",
       "        return WebSocket;\n",
       "    } else if (typeof MozWebSocket !== 'undefined') {\n",
       "        return MozWebSocket;\n",
       "    } else {\n",
       "        alert(\n",
       "            'Your browser does not have WebSocket support. ' +\n",
       "                'Please try Chrome, Safari or Firefox ≥ 6. ' +\n",
       "                'Firefox 4 and 5 are also supported but you ' +\n",
       "                'have to enable WebSockets in about:config.'\n",
       "        );\n",
       "    }\n",
       "};\n",
       "\n",
       "mpl.figure = function (figure_id, websocket, ondownload, parent_element) {\n",
       "    this.id = figure_id;\n",
       "\n",
       "    this.ws = websocket;\n",
       "\n",
       "    this.supports_binary = this.ws.binaryType !== undefined;\n",
       "\n",
       "    if (!this.supports_binary) {\n",
       "        var warnings = document.getElementById('mpl-warnings');\n",
       "        if (warnings) {\n",
       "            warnings.style.display = 'block';\n",
       "            warnings.textContent =\n",
       "                'This browser does not support binary websocket messages. ' +\n",
       "                'Performance may be slow.';\n",
       "        }\n",
       "    }\n",
       "\n",
       "    this.imageObj = new Image();\n",
       "\n",
       "    this.context = undefined;\n",
       "    this.message = undefined;\n",
       "    this.canvas = undefined;\n",
       "    this.rubberband_canvas = undefined;\n",
       "    this.rubberband_context = undefined;\n",
       "    this.format_dropdown = undefined;\n",
       "\n",
       "    this.image_mode = 'full';\n",
       "\n",
       "    this.root = document.createElement('div');\n",
       "    this.root.setAttribute('style', 'display: inline-block');\n",
       "    this._root_extra_style(this.root);\n",
       "\n",
       "    parent_element.appendChild(this.root);\n",
       "\n",
       "    this._init_header(this);\n",
       "    this._init_canvas(this);\n",
       "    this._init_toolbar(this);\n",
       "\n",
       "    var fig = this;\n",
       "\n",
       "    this.waiting = false;\n",
       "\n",
       "    this.ws.onopen = function () {\n",
       "        fig.send_message('supports_binary', { value: fig.supports_binary });\n",
       "        fig.send_message('send_image_mode', {});\n",
       "        if (fig.ratio !== 1) {\n",
       "            fig.send_message('set_device_pixel_ratio', {\n",
       "                device_pixel_ratio: fig.ratio,\n",
       "            });\n",
       "        }\n",
       "        fig.send_message('refresh', {});\n",
       "    };\n",
       "\n",
       "    this.imageObj.onload = function () {\n",
       "        if (fig.image_mode === 'full') {\n",
       "            // Full images could contain transparency (where diff images\n",
       "            // almost always do), so we need to clear the canvas so that\n",
       "            // there is no ghosting.\n",
       "            fig.context.clearRect(0, 0, fig.canvas.width, fig.canvas.height);\n",
       "        }\n",
       "        fig.context.drawImage(fig.imageObj, 0, 0);\n",
       "    };\n",
       "\n",
       "    this.imageObj.onunload = function () {\n",
       "        fig.ws.close();\n",
       "    };\n",
       "\n",
       "    this.ws.onmessage = this._make_on_message_function(this);\n",
       "\n",
       "    this.ondownload = ondownload;\n",
       "};\n",
       "\n",
       "mpl.figure.prototype._init_header = function () {\n",
       "    var titlebar = document.createElement('div');\n",
       "    titlebar.classList =\n",
       "        'ui-dialog-titlebar ui-widget-header ui-corner-all ui-helper-clearfix';\n",
       "    var titletext = document.createElement('div');\n",
       "    titletext.classList = 'ui-dialog-title';\n",
       "    titletext.setAttribute(\n",
       "        'style',\n",
       "        'width: 100%; text-align: center; padding: 3px;'\n",
       "    );\n",
       "    titlebar.appendChild(titletext);\n",
       "    this.root.appendChild(titlebar);\n",
       "    this.header = titletext;\n",
       "};\n",
       "\n",
       "mpl.figure.prototype._canvas_extra_style = function (_canvas_div) {};\n",
       "\n",
       "mpl.figure.prototype._root_extra_style = function (_canvas_div) {};\n",
       "\n",
       "mpl.figure.prototype._init_canvas = function () {\n",
       "    var fig = this;\n",
       "\n",
       "    var canvas_div = (this.canvas_div = document.createElement('div'));\n",
       "    canvas_div.setAttribute(\n",
       "        'style',\n",
       "        'border: 1px solid #ddd;' +\n",
       "            'box-sizing: content-box;' +\n",
       "            'clear: both;' +\n",
       "            'min-height: 1px;' +\n",
       "            'min-width: 1px;' +\n",
       "            'outline: 0;' +\n",
       "            'overflow: hidden;' +\n",
       "            'position: relative;' +\n",
       "            'resize: both;'\n",
       "    );\n",
       "\n",
       "    function on_keyboard_event_closure(name) {\n",
       "        return function (event) {\n",
       "            return fig.key_event(event, name);\n",
       "        };\n",
       "    }\n",
       "\n",
       "    canvas_div.addEventListener(\n",
       "        'keydown',\n",
       "        on_keyboard_event_closure('key_press')\n",
       "    );\n",
       "    canvas_div.addEventListener(\n",
       "        'keyup',\n",
       "        on_keyboard_event_closure('key_release')\n",
       "    );\n",
       "\n",
       "    this._canvas_extra_style(canvas_div);\n",
       "    this.root.appendChild(canvas_div);\n",
       "\n",
       "    var canvas = (this.canvas = document.createElement('canvas'));\n",
       "    canvas.classList.add('mpl-canvas');\n",
       "    canvas.setAttribute('style', 'box-sizing: content-box;');\n",
       "\n",
       "    this.context = canvas.getContext('2d');\n",
       "\n",
       "    var backingStore =\n",
       "        this.context.backingStorePixelRatio ||\n",
       "        this.context.webkitBackingStorePixelRatio ||\n",
       "        this.context.mozBackingStorePixelRatio ||\n",
       "        this.context.msBackingStorePixelRatio ||\n",
       "        this.context.oBackingStorePixelRatio ||\n",
       "        this.context.backingStorePixelRatio ||\n",
       "        1;\n",
       "\n",
       "    this.ratio = (window.devicePixelRatio || 1) / backingStore;\n",
       "\n",
       "    var rubberband_canvas = (this.rubberband_canvas = document.createElement(\n",
       "        'canvas'\n",
       "    ));\n",
       "    rubberband_canvas.setAttribute(\n",
       "        'style',\n",
       "        'box-sizing: content-box; position: absolute; left: 0; top: 0; z-index: 1;'\n",
       "    );\n",
       "\n",
       "    // Apply a ponyfill if ResizeObserver is not implemented by browser.\n",
       "    if (this.ResizeObserver === undefined) {\n",
       "        if (window.ResizeObserver !== undefined) {\n",
       "            this.ResizeObserver = window.ResizeObserver;\n",
       "        } else {\n",
       "            var obs = _JSXTOOLS_RESIZE_OBSERVER({});\n",
       "            this.ResizeObserver = obs.ResizeObserver;\n",
       "        }\n",
       "    }\n",
       "\n",
       "    this.resizeObserverInstance = new this.ResizeObserver(function (entries) {\n",
       "        var nentries = entries.length;\n",
       "        for (var i = 0; i < nentries; i++) {\n",
       "            var entry = entries[i];\n",
       "            var width, height;\n",
       "            if (entry.contentBoxSize) {\n",
       "                if (entry.contentBoxSize instanceof Array) {\n",
       "                    // Chrome 84 implements new version of spec.\n",
       "                    width = entry.contentBoxSize[0].inlineSize;\n",
       "                    height = entry.contentBoxSize[0].blockSize;\n",
       "                } else {\n",
       "                    // Firefox implements old version of spec.\n",
       "                    width = entry.contentBoxSize.inlineSize;\n",
       "                    height = entry.contentBoxSize.blockSize;\n",
       "                }\n",
       "            } else {\n",
       "                // Chrome <84 implements even older version of spec.\n",
       "                width = entry.contentRect.width;\n",
       "                height = entry.contentRect.height;\n",
       "            }\n",
       "\n",
       "            // Keep the size of the canvas and rubber band canvas in sync with\n",
       "            // the canvas container.\n",
       "            if (entry.devicePixelContentBoxSize) {\n",
       "                // Chrome 84 implements new version of spec.\n",
       "                canvas.setAttribute(\n",
       "                    'width',\n",
       "                    entry.devicePixelContentBoxSize[0].inlineSize\n",
       "                );\n",
       "                canvas.setAttribute(\n",
       "                    'height',\n",
       "                    entry.devicePixelContentBoxSize[0].blockSize\n",
       "                );\n",
       "            } else {\n",
       "                canvas.setAttribute('width', width * fig.ratio);\n",
       "                canvas.setAttribute('height', height * fig.ratio);\n",
       "            }\n",
       "            canvas.setAttribute(\n",
       "                'style',\n",
       "                'width: ' + width + 'px; height: ' + height + 'px;'\n",
       "            );\n",
       "\n",
       "            rubberband_canvas.setAttribute('width', width);\n",
       "            rubberband_canvas.setAttribute('height', height);\n",
       "\n",
       "            // And update the size in Python. We ignore the initial 0/0 size\n",
       "            // that occurs as the element is placed into the DOM, which should\n",
       "            // otherwise not happen due to the minimum size styling.\n",
       "            if (fig.ws.readyState == 1 && width != 0 && height != 0) {\n",
       "                fig.request_resize(width, height);\n",
       "            }\n",
       "        }\n",
       "    });\n",
       "    this.resizeObserverInstance.observe(canvas_div);\n",
       "\n",
       "    function on_mouse_event_closure(name) {\n",
       "        return function (event) {\n",
       "            return fig.mouse_event(event, name);\n",
       "        };\n",
       "    }\n",
       "\n",
       "    rubberband_canvas.addEventListener(\n",
       "        'mousedown',\n",
       "        on_mouse_event_closure('button_press')\n",
       "    );\n",
       "    rubberband_canvas.addEventListener(\n",
       "        'mouseup',\n",
       "        on_mouse_event_closure('button_release')\n",
       "    );\n",
       "    rubberband_canvas.addEventListener(\n",
       "        'dblclick',\n",
       "        on_mouse_event_closure('dblclick')\n",
       "    );\n",
       "    // Throttle sequential mouse events to 1 every 20ms.\n",
       "    rubberband_canvas.addEventListener(\n",
       "        'mousemove',\n",
       "        on_mouse_event_closure('motion_notify')\n",
       "    );\n",
       "\n",
       "    rubberband_canvas.addEventListener(\n",
       "        'mouseenter',\n",
       "        on_mouse_event_closure('figure_enter')\n",
       "    );\n",
       "    rubberband_canvas.addEventListener(\n",
       "        'mouseleave',\n",
       "        on_mouse_event_closure('figure_leave')\n",
       "    );\n",
       "\n",
       "    canvas_div.addEventListener('wheel', function (event) {\n",
       "        if (event.deltaY < 0) {\n",
       "            event.step = 1;\n",
       "        } else {\n",
       "            event.step = -1;\n",
       "        }\n",
       "        on_mouse_event_closure('scroll')(event);\n",
       "    });\n",
       "\n",
       "    canvas_div.appendChild(canvas);\n",
       "    canvas_div.appendChild(rubberband_canvas);\n",
       "\n",
       "    this.rubberband_context = rubberband_canvas.getContext('2d');\n",
       "    this.rubberband_context.strokeStyle = '#000000';\n",
       "\n",
       "    this._resize_canvas = function (width, height, forward) {\n",
       "        if (forward) {\n",
       "            canvas_div.style.width = width + 'px';\n",
       "            canvas_div.style.height = height + 'px';\n",
       "        }\n",
       "    };\n",
       "\n",
       "    // Disable right mouse context menu.\n",
       "    this.rubberband_canvas.addEventListener('contextmenu', function (_e) {\n",
       "        event.preventDefault();\n",
       "        return false;\n",
       "    });\n",
       "\n",
       "    function set_focus() {\n",
       "        canvas.focus();\n",
       "        canvas_div.focus();\n",
       "    }\n",
       "\n",
       "    window.setTimeout(set_focus, 100);\n",
       "};\n",
       "\n",
       "mpl.figure.prototype._init_toolbar = function () {\n",
       "    var fig = this;\n",
       "\n",
       "    var toolbar = document.createElement('div');\n",
       "    toolbar.classList = 'mpl-toolbar';\n",
       "    this.root.appendChild(toolbar);\n",
       "\n",
       "    function on_click_closure(name) {\n",
       "        return function (_event) {\n",
       "            return fig.toolbar_button_onclick(name);\n",
       "        };\n",
       "    }\n",
       "\n",
       "    function on_mouseover_closure(tooltip) {\n",
       "        return function (event) {\n",
       "            if (!event.currentTarget.disabled) {\n",
       "                return fig.toolbar_button_onmouseover(tooltip);\n",
       "            }\n",
       "        };\n",
       "    }\n",
       "\n",
       "    fig.buttons = {};\n",
       "    var buttonGroup = document.createElement('div');\n",
       "    buttonGroup.classList = 'mpl-button-group';\n",
       "    for (var toolbar_ind in mpl.toolbar_items) {\n",
       "        var name = mpl.toolbar_items[toolbar_ind][0];\n",
       "        var tooltip = mpl.toolbar_items[toolbar_ind][1];\n",
       "        var image = mpl.toolbar_items[toolbar_ind][2];\n",
       "        var method_name = mpl.toolbar_items[toolbar_ind][3];\n",
       "\n",
       "        if (!name) {\n",
       "            /* Instead of a spacer, we start a new button group. */\n",
       "            if (buttonGroup.hasChildNodes()) {\n",
       "                toolbar.appendChild(buttonGroup);\n",
       "            }\n",
       "            buttonGroup = document.createElement('div');\n",
       "            buttonGroup.classList = 'mpl-button-group';\n",
       "            continue;\n",
       "        }\n",
       "\n",
       "        var button = (fig.buttons[name] = document.createElement('button'));\n",
       "        button.classList = 'mpl-widget';\n",
       "        button.setAttribute('role', 'button');\n",
       "        button.setAttribute('aria-disabled', 'false');\n",
       "        button.addEventListener('click', on_click_closure(method_name));\n",
       "        button.addEventListener('mouseover', on_mouseover_closure(tooltip));\n",
       "\n",
       "        var icon_img = document.createElement('img');\n",
       "        icon_img.src = '_images/' + image + '.png';\n",
       "        icon_img.srcset = '_images/' + image + '_large.png 2x';\n",
       "        icon_img.alt = tooltip;\n",
       "        button.appendChild(icon_img);\n",
       "\n",
       "        buttonGroup.appendChild(button);\n",
       "    }\n",
       "\n",
       "    if (buttonGroup.hasChildNodes()) {\n",
       "        toolbar.appendChild(buttonGroup);\n",
       "    }\n",
       "\n",
       "    var fmt_picker = document.createElement('select');\n",
       "    fmt_picker.classList = 'mpl-widget';\n",
       "    toolbar.appendChild(fmt_picker);\n",
       "    this.format_dropdown = fmt_picker;\n",
       "\n",
       "    for (var ind in mpl.extensions) {\n",
       "        var fmt = mpl.extensions[ind];\n",
       "        var option = document.createElement('option');\n",
       "        option.selected = fmt === mpl.default_extension;\n",
       "        option.innerHTML = fmt;\n",
       "        fmt_picker.appendChild(option);\n",
       "    }\n",
       "\n",
       "    var status_bar = document.createElement('span');\n",
       "    status_bar.classList = 'mpl-message';\n",
       "    toolbar.appendChild(status_bar);\n",
       "    this.message = status_bar;\n",
       "};\n",
       "\n",
       "mpl.figure.prototype.request_resize = function (x_pixels, y_pixels) {\n",
       "    // Request matplotlib to resize the figure. Matplotlib will then trigger a resize in the client,\n",
       "    // which will in turn request a refresh of the image.\n",
       "    this.send_message('resize', { width: x_pixels, height: y_pixels });\n",
       "};\n",
       "\n",
       "mpl.figure.prototype.send_message = function (type, properties) {\n",
       "    properties['type'] = type;\n",
       "    properties['figure_id'] = this.id;\n",
       "    this.ws.send(JSON.stringify(properties));\n",
       "};\n",
       "\n",
       "mpl.figure.prototype.send_draw_message = function () {\n",
       "    if (!this.waiting) {\n",
       "        this.waiting = true;\n",
       "        this.ws.send(JSON.stringify({ type: 'draw', figure_id: this.id }));\n",
       "    }\n",
       "};\n",
       "\n",
       "mpl.figure.prototype.handle_save = function (fig, _msg) {\n",
       "    var format_dropdown = fig.format_dropdown;\n",
       "    var format = format_dropdown.options[format_dropdown.selectedIndex].value;\n",
       "    fig.ondownload(fig, format);\n",
       "};\n",
       "\n",
       "mpl.figure.prototype.handle_resize = function (fig, msg) {\n",
       "    var size = msg['size'];\n",
       "    if (size[0] !== fig.canvas.width || size[1] !== fig.canvas.height) {\n",
       "        fig._resize_canvas(size[0], size[1], msg['forward']);\n",
       "        fig.send_message('refresh', {});\n",
       "    }\n",
       "};\n",
       "\n",
       "mpl.figure.prototype.handle_rubberband = function (fig, msg) {\n",
       "    var x0 = msg['x0'] / fig.ratio;\n",
       "    var y0 = (fig.canvas.height - msg['y0']) / fig.ratio;\n",
       "    var x1 = msg['x1'] / fig.ratio;\n",
       "    var y1 = (fig.canvas.height - msg['y1']) / fig.ratio;\n",
       "    x0 = Math.floor(x0) + 0.5;\n",
       "    y0 = Math.floor(y0) + 0.5;\n",
       "    x1 = Math.floor(x1) + 0.5;\n",
       "    y1 = Math.floor(y1) + 0.5;\n",
       "    var min_x = Math.min(x0, x1);\n",
       "    var min_y = Math.min(y0, y1);\n",
       "    var width = Math.abs(x1 - x0);\n",
       "    var height = Math.abs(y1 - y0);\n",
       "\n",
       "    fig.rubberband_context.clearRect(\n",
       "        0,\n",
       "        0,\n",
       "        fig.canvas.width / fig.ratio,\n",
       "        fig.canvas.height / fig.ratio\n",
       "    );\n",
       "\n",
       "    fig.rubberband_context.strokeRect(min_x, min_y, width, height);\n",
       "};\n",
       "\n",
       "mpl.figure.prototype.handle_figure_label = function (fig, msg) {\n",
       "    // Updates the figure title.\n",
       "    fig.header.textContent = msg['label'];\n",
       "};\n",
       "\n",
       "mpl.figure.prototype.handle_cursor = function (fig, msg) {\n",
       "    fig.rubberband_canvas.style.cursor = msg['cursor'];\n",
       "};\n",
       "\n",
       "mpl.figure.prototype.handle_message = function (fig, msg) {\n",
       "    fig.message.textContent = msg['message'];\n",
       "};\n",
       "\n",
       "mpl.figure.prototype.handle_draw = function (fig, _msg) {\n",
       "    // Request the server to send over a new figure.\n",
       "    fig.send_draw_message();\n",
       "};\n",
       "\n",
       "mpl.figure.prototype.handle_image_mode = function (fig, msg) {\n",
       "    fig.image_mode = msg['mode'];\n",
       "};\n",
       "\n",
       "mpl.figure.prototype.handle_history_buttons = function (fig, msg) {\n",
       "    for (var key in msg) {\n",
       "        if (!(key in fig.buttons)) {\n",
       "            continue;\n",
       "        }\n",
       "        fig.buttons[key].disabled = !msg[key];\n",
       "        fig.buttons[key].setAttribute('aria-disabled', !msg[key]);\n",
       "    }\n",
       "};\n",
       "\n",
       "mpl.figure.prototype.handle_navigate_mode = function (fig, msg) {\n",
       "    if (msg['mode'] === 'PAN') {\n",
       "        fig.buttons['Pan'].classList.add('active');\n",
       "        fig.buttons['Zoom'].classList.remove('active');\n",
       "    } else if (msg['mode'] === 'ZOOM') {\n",
       "        fig.buttons['Pan'].classList.remove('active');\n",
       "        fig.buttons['Zoom'].classList.add('active');\n",
       "    } else {\n",
       "        fig.buttons['Pan'].classList.remove('active');\n",
       "        fig.buttons['Zoom'].classList.remove('active');\n",
       "    }\n",
       "};\n",
       "\n",
       "mpl.figure.prototype.updated_canvas_event = function () {\n",
       "    // Called whenever the canvas gets updated.\n",
       "    this.send_message('ack', {});\n",
       "};\n",
       "\n",
       "// A function to construct a web socket function for onmessage handling.\n",
       "// Called in the figure constructor.\n",
       "mpl.figure.prototype._make_on_message_function = function (fig) {\n",
       "    return function socket_on_message(evt) {\n",
       "        if (evt.data instanceof Blob) {\n",
       "            var img = evt.data;\n",
       "            if (img.type !== 'image/png') {\n",
       "                /* FIXME: We get \"Resource interpreted as Image but\n",
       "                 * transferred with MIME type text/plain:\" errors on\n",
       "                 * Chrome.  But how to set the MIME type?  It doesn't seem\n",
       "                 * to be part of the websocket stream */\n",
       "                img.type = 'image/png';\n",
       "            }\n",
       "\n",
       "            /* Free the memory for the previous frames */\n",
       "            if (fig.imageObj.src) {\n",
       "                (window.URL || window.webkitURL).revokeObjectURL(\n",
       "                    fig.imageObj.src\n",
       "                );\n",
       "            }\n",
       "\n",
       "            fig.imageObj.src = (window.URL || window.webkitURL).createObjectURL(\n",
       "                img\n",
       "            );\n",
       "            fig.updated_canvas_event();\n",
       "            fig.waiting = false;\n",
       "            return;\n",
       "        } else if (\n",
       "            typeof evt.data === 'string' &&\n",
       "            evt.data.slice(0, 21) === 'data:image/png;base64'\n",
       "        ) {\n",
       "            fig.imageObj.src = evt.data;\n",
       "            fig.updated_canvas_event();\n",
       "            fig.waiting = false;\n",
       "            return;\n",
       "        }\n",
       "\n",
       "        var msg = JSON.parse(evt.data);\n",
       "        var msg_type = msg['type'];\n",
       "\n",
       "        // Call the  \"handle_{type}\" callback, which takes\n",
       "        // the figure and JSON message as its only arguments.\n",
       "        try {\n",
       "            var callback = fig['handle_' + msg_type];\n",
       "        } catch (e) {\n",
       "            console.log(\n",
       "                \"No handler for the '\" + msg_type + \"' message type: \",\n",
       "                msg\n",
       "            );\n",
       "            return;\n",
       "        }\n",
       "\n",
       "        if (callback) {\n",
       "            try {\n",
       "                // console.log(\"Handling '\" + msg_type + \"' message: \", msg);\n",
       "                callback(fig, msg);\n",
       "            } catch (e) {\n",
       "                console.log(\n",
       "                    \"Exception inside the 'handler_\" + msg_type + \"' callback:\",\n",
       "                    e,\n",
       "                    e.stack,\n",
       "                    msg\n",
       "                );\n",
       "            }\n",
       "        }\n",
       "    };\n",
       "};\n",
       "\n",
       "// from https://stackoverflow.com/questions/1114465/getting-mouse-location-in-canvas\n",
       "mpl.findpos = function (e) {\n",
       "    //this section is from http://www.quirksmode.org/js/events_properties.html\n",
       "    var targ;\n",
       "    if (!e) {\n",
       "        e = window.event;\n",
       "    }\n",
       "    if (e.target) {\n",
       "        targ = e.target;\n",
       "    } else if (e.srcElement) {\n",
       "        targ = e.srcElement;\n",
       "    }\n",
       "    if (targ.nodeType === 3) {\n",
       "        // defeat Safari bug\n",
       "        targ = targ.parentNode;\n",
       "    }\n",
       "\n",
       "    // pageX,Y are the mouse positions relative to the document\n",
       "    var boundingRect = targ.getBoundingClientRect();\n",
       "    var x = e.pageX - (boundingRect.left + document.body.scrollLeft);\n",
       "    var y = e.pageY - (boundingRect.top + document.body.scrollTop);\n",
       "\n",
       "    return { x: x, y: y };\n",
       "};\n",
       "\n",
       "/*\n",
       " * return a copy of an object with only non-object keys\n",
       " * we need this to avoid circular references\n",
       " * https://stackoverflow.com/a/24161582/3208463\n",
       " */\n",
       "function simpleKeys(original) {\n",
       "    return Object.keys(original).reduce(function (obj, key) {\n",
       "        if (typeof original[key] !== 'object') {\n",
       "            obj[key] = original[key];\n",
       "        }\n",
       "        return obj;\n",
       "    }, {});\n",
       "}\n",
       "\n",
       "mpl.figure.prototype.mouse_event = function (event, name) {\n",
       "    var canvas_pos = mpl.findpos(event);\n",
       "\n",
       "    if (name === 'button_press') {\n",
       "        this.canvas.focus();\n",
       "        this.canvas_div.focus();\n",
       "    }\n",
       "\n",
       "    var x = canvas_pos.x * this.ratio;\n",
       "    var y = canvas_pos.y * this.ratio;\n",
       "\n",
       "    this.send_message(name, {\n",
       "        x: x,\n",
       "        y: y,\n",
       "        button: event.button,\n",
       "        step: event.step,\n",
       "        guiEvent: simpleKeys(event),\n",
       "    });\n",
       "\n",
       "    /* This prevents the web browser from automatically changing to\n",
       "     * the text insertion cursor when the button is pressed.  We want\n",
       "     * to control all of the cursor setting manually through the\n",
       "     * 'cursor' event from matplotlib */\n",
       "    event.preventDefault();\n",
       "    return false;\n",
       "};\n",
       "\n",
       "mpl.figure.prototype._key_event_extra = function (_event, _name) {\n",
       "    // Handle any extra behaviour associated with a key event\n",
       "};\n",
       "\n",
       "mpl.figure.prototype.key_event = function (event, name) {\n",
       "    // Prevent repeat events\n",
       "    if (name === 'key_press') {\n",
       "        if (event.key === this._key) {\n",
       "            return;\n",
       "        } else {\n",
       "            this._key = event.key;\n",
       "        }\n",
       "    }\n",
       "    if (name === 'key_release') {\n",
       "        this._key = null;\n",
       "    }\n",
       "\n",
       "    var value = '';\n",
       "    if (event.ctrlKey && event.key !== 'Control') {\n",
       "        value += 'ctrl+';\n",
       "    }\n",
       "    else if (event.altKey && event.key !== 'Alt') {\n",
       "        value += 'alt+';\n",
       "    }\n",
       "    else if (event.shiftKey && event.key !== 'Shift') {\n",
       "        value += 'shift+';\n",
       "    }\n",
       "\n",
       "    value += 'k' + event.key;\n",
       "\n",
       "    this._key_event_extra(event, name);\n",
       "\n",
       "    this.send_message(name, { key: value, guiEvent: simpleKeys(event) });\n",
       "    return false;\n",
       "};\n",
       "\n",
       "mpl.figure.prototype.toolbar_button_onclick = function (name) {\n",
       "    if (name === 'download') {\n",
       "        this.handle_save(this, null);\n",
       "    } else {\n",
       "        this.send_message('toolbar_button', { name: name });\n",
       "    }\n",
       "};\n",
       "\n",
       "mpl.figure.prototype.toolbar_button_onmouseover = function (tooltip) {\n",
       "    this.message.textContent = tooltip;\n",
       "};\n",
       "\n",
       "///////////////// REMAINING CONTENT GENERATED BY embed_js.py /////////////////\n",
       "// prettier-ignore\n",
       "var _JSXTOOLS_RESIZE_OBSERVER=function(A){var t,i=new WeakMap,n=new WeakMap,a=new WeakMap,r=new WeakMap,o=new Set;function s(e){if(!(this instanceof s))throw new TypeError(\"Constructor requires 'new' operator\");i.set(this,e)}function h(){throw new TypeError(\"Function is not a constructor\")}function c(e,t,i,n){e=0 in arguments?Number(arguments[0]):0,t=1 in arguments?Number(arguments[1]):0,i=2 in arguments?Number(arguments[2]):0,n=3 in arguments?Number(arguments[3]):0,this.right=(this.x=this.left=e)+(this.width=i),this.bottom=(this.y=this.top=t)+(this.height=n),Object.freeze(this)}function d(){t=requestAnimationFrame(d);var s=new WeakMap,p=new Set;o.forEach((function(t){r.get(t).forEach((function(i){var r=t instanceof window.SVGElement,o=a.get(t),d=r?0:parseFloat(o.paddingTop),f=r?0:parseFloat(o.paddingRight),l=r?0:parseFloat(o.paddingBottom),u=r?0:parseFloat(o.paddingLeft),g=r?0:parseFloat(o.borderTopWidth),m=r?0:parseFloat(o.borderRightWidth),w=r?0:parseFloat(o.borderBottomWidth),b=u+f,F=d+l,v=(r?0:parseFloat(o.borderLeftWidth))+m,W=g+w,y=r?0:t.offsetHeight-W-t.clientHeight,E=r?0:t.offsetWidth-v-t.clientWidth,R=b+v,z=F+W,M=r?t.width:parseFloat(o.width)-R-E,O=r?t.height:parseFloat(o.height)-z-y;if(n.has(t)){var k=n.get(t);if(k[0]===M&&k[1]===O)return}n.set(t,[M,O]);var S=Object.create(h.prototype);S.target=t,S.contentRect=new c(u,d,M,O),s.has(i)||(s.set(i,[]),p.add(i)),s.get(i).push(S)}))})),p.forEach((function(e){i.get(e).call(e,s.get(e),e)}))}return s.prototype.observe=function(i){if(i instanceof window.Element){r.has(i)||(r.set(i,new Set),o.add(i),a.set(i,window.getComputedStyle(i)));var n=r.get(i);n.has(this)||n.add(this),cancelAnimationFrame(t),t=requestAnimationFrame(d)}},s.prototype.unobserve=function(i){if(i instanceof window.Element&&r.has(i)){var n=r.get(i);n.has(this)&&(n.delete(this),n.size||(r.delete(i),o.delete(i))),n.size||r.delete(i),o.size||cancelAnimationFrame(t)}},A.DOMRectReadOnly=c,A.ResizeObserver=s,A.ResizeObserverEntry=h,A}; // eslint-disable-line\n",
       "mpl.toolbar_items = [[\"Home\", \"Reset original view\", \"fa fa-home icon-home\", \"home\"], [\"Back\", \"Back to previous view\", \"fa fa-arrow-left icon-arrow-left\", \"back\"], [\"Forward\", \"Forward to next view\", \"fa fa-arrow-right icon-arrow-right\", \"forward\"], [\"\", \"\", \"\", \"\"], [\"Pan\", \"Left button pans, Right button zooms\\nx/y fixes axis, CTRL fixes aspect\", \"fa fa-arrows icon-move\", \"pan\"], [\"Zoom\", \"Zoom to rectangle\\nx/y fixes axis\", \"fa fa-square-o icon-check-empty\", \"zoom\"], [\"\", \"\", \"\", \"\"], [\"Download\", \"Download plot\", \"fa fa-floppy-o icon-save\", \"download\"]];\n",
       "\n",
       "mpl.extensions = [\"eps\", \"jpeg\", \"pgf\", \"pdf\", \"png\", \"ps\", \"raw\", \"svg\", \"tif\"];\n",
       "\n",
       "mpl.default_extension = \"png\";/* global mpl */\n",
       "\n",
       "var comm_websocket_adapter = function (comm) {\n",
       "    // Create a \"websocket\"-like object which calls the given IPython comm\n",
       "    // object with the appropriate methods. Currently this is a non binary\n",
       "    // socket, so there is still some room for performance tuning.\n",
       "    var ws = {};\n",
       "\n",
       "    ws.binaryType = comm.kernel.ws.binaryType;\n",
       "    ws.readyState = comm.kernel.ws.readyState;\n",
       "    function updateReadyState(_event) {\n",
       "        if (comm.kernel.ws) {\n",
       "            ws.readyState = comm.kernel.ws.readyState;\n",
       "        } else {\n",
       "            ws.readyState = 3; // Closed state.\n",
       "        }\n",
       "    }\n",
       "    comm.kernel.ws.addEventListener('open', updateReadyState);\n",
       "    comm.kernel.ws.addEventListener('close', updateReadyState);\n",
       "    comm.kernel.ws.addEventListener('error', updateReadyState);\n",
       "\n",
       "    ws.close = function () {\n",
       "        comm.close();\n",
       "    };\n",
       "    ws.send = function (m) {\n",
       "        //console.log('sending', m);\n",
       "        comm.send(m);\n",
       "    };\n",
       "    // Register the callback with on_msg.\n",
       "    comm.on_msg(function (msg) {\n",
       "        //console.log('receiving', msg['content']['data'], msg);\n",
       "        var data = msg['content']['data'];\n",
       "        if (data['blob'] !== undefined) {\n",
       "            data = {\n",
       "                data: new Blob(msg['buffers'], { type: data['blob'] }),\n",
       "            };\n",
       "        }\n",
       "        // Pass the mpl event to the overridden (by mpl) onmessage function.\n",
       "        ws.onmessage(data);\n",
       "    });\n",
       "    return ws;\n",
       "};\n",
       "\n",
       "mpl.mpl_figure_comm = function (comm, msg) {\n",
       "    // This is the function which gets called when the mpl process\n",
       "    // starts-up an IPython Comm through the \"matplotlib\" channel.\n",
       "\n",
       "    var id = msg.content.data.id;\n",
       "    // Get hold of the div created by the display call when the Comm\n",
       "    // socket was opened in Python.\n",
       "    var element = document.getElementById(id);\n",
       "    var ws_proxy = comm_websocket_adapter(comm);\n",
       "\n",
       "    function ondownload(figure, _format) {\n",
       "        window.open(figure.canvas.toDataURL());\n",
       "    }\n",
       "\n",
       "    var fig = new mpl.figure(id, ws_proxy, ondownload, element);\n",
       "\n",
       "    // Call onopen now - mpl needs it, as it is assuming we've passed it a real\n",
       "    // web socket which is closed, not our websocket->open comm proxy.\n",
       "    ws_proxy.onopen();\n",
       "\n",
       "    fig.parent_element = element;\n",
       "    fig.cell_info = mpl.find_output_cell(\"<div id='\" + id + \"'></div>\");\n",
       "    if (!fig.cell_info) {\n",
       "        console.error('Failed to find cell for figure', id, fig);\n",
       "        return;\n",
       "    }\n",
       "    fig.cell_info[0].output_area.element.on(\n",
       "        'cleared',\n",
       "        { fig: fig },\n",
       "        fig._remove_fig_handler\n",
       "    );\n",
       "};\n",
       "\n",
       "mpl.figure.prototype.handle_close = function (fig, msg) {\n",
       "    var width = fig.canvas.width / fig.ratio;\n",
       "    fig.cell_info[0].output_area.element.off(\n",
       "        'cleared',\n",
       "        fig._remove_fig_handler\n",
       "    );\n",
       "    fig.resizeObserverInstance.unobserve(fig.canvas_div);\n",
       "\n",
       "    // Update the output cell to use the data from the current canvas.\n",
       "    fig.push_to_output();\n",
       "    var dataURL = fig.canvas.toDataURL();\n",
       "    // Re-enable the keyboard manager in IPython - without this line, in FF,\n",
       "    // the notebook keyboard shortcuts fail.\n",
       "    IPython.keyboard_manager.enable();\n",
       "    fig.parent_element.innerHTML =\n",
       "        '<img src=\"' + dataURL + '\" width=\"' + width + '\">';\n",
       "    fig.close_ws(fig, msg);\n",
       "};\n",
       "\n",
       "mpl.figure.prototype.close_ws = function (fig, msg) {\n",
       "    fig.send_message('closing', msg);\n",
       "    // fig.ws.close()\n",
       "};\n",
       "\n",
       "mpl.figure.prototype.push_to_output = function (_remove_interactive) {\n",
       "    // Turn the data on the canvas into data in the output cell.\n",
       "    var width = this.canvas.width / this.ratio;\n",
       "    var dataURL = this.canvas.toDataURL();\n",
       "    this.cell_info[1]['text/html'] =\n",
       "        '<img src=\"' + dataURL + '\" width=\"' + width + '\">';\n",
       "};\n",
       "\n",
       "mpl.figure.prototype.updated_canvas_event = function () {\n",
       "    // Tell IPython that the notebook contents must change.\n",
       "    IPython.notebook.set_dirty(true);\n",
       "    this.send_message('ack', {});\n",
       "    var fig = this;\n",
       "    // Wait a second, then push the new image to the DOM so\n",
       "    // that it is saved nicely (might be nice to debounce this).\n",
       "    setTimeout(function () {\n",
       "        fig.push_to_output();\n",
       "    }, 1000);\n",
       "};\n",
       "\n",
       "mpl.figure.prototype._init_toolbar = function () {\n",
       "    var fig = this;\n",
       "\n",
       "    var toolbar = document.createElement('div');\n",
       "    toolbar.classList = 'btn-toolbar';\n",
       "    this.root.appendChild(toolbar);\n",
       "\n",
       "    function on_click_closure(name) {\n",
       "        return function (_event) {\n",
       "            return fig.toolbar_button_onclick(name);\n",
       "        };\n",
       "    }\n",
       "\n",
       "    function on_mouseover_closure(tooltip) {\n",
       "        return function (event) {\n",
       "            if (!event.currentTarget.disabled) {\n",
       "                return fig.toolbar_button_onmouseover(tooltip);\n",
       "            }\n",
       "        };\n",
       "    }\n",
       "\n",
       "    fig.buttons = {};\n",
       "    var buttonGroup = document.createElement('div');\n",
       "    buttonGroup.classList = 'btn-group';\n",
       "    var button;\n",
       "    for (var toolbar_ind in mpl.toolbar_items) {\n",
       "        var name = mpl.toolbar_items[toolbar_ind][0];\n",
       "        var tooltip = mpl.toolbar_items[toolbar_ind][1];\n",
       "        var image = mpl.toolbar_items[toolbar_ind][2];\n",
       "        var method_name = mpl.toolbar_items[toolbar_ind][3];\n",
       "\n",
       "        if (!name) {\n",
       "            /* Instead of a spacer, we start a new button group. */\n",
       "            if (buttonGroup.hasChildNodes()) {\n",
       "                toolbar.appendChild(buttonGroup);\n",
       "            }\n",
       "            buttonGroup = document.createElement('div');\n",
       "            buttonGroup.classList = 'btn-group';\n",
       "            continue;\n",
       "        }\n",
       "\n",
       "        button = fig.buttons[name] = document.createElement('button');\n",
       "        button.classList = 'btn btn-default';\n",
       "        button.href = '#';\n",
       "        button.title = name;\n",
       "        button.innerHTML = '<i class=\"fa ' + image + ' fa-lg\"></i>';\n",
       "        button.addEventListener('click', on_click_closure(method_name));\n",
       "        button.addEventListener('mouseover', on_mouseover_closure(tooltip));\n",
       "        buttonGroup.appendChild(button);\n",
       "    }\n",
       "\n",
       "    if (buttonGroup.hasChildNodes()) {\n",
       "        toolbar.appendChild(buttonGroup);\n",
       "    }\n",
       "\n",
       "    // Add the status bar.\n",
       "    var status_bar = document.createElement('span');\n",
       "    status_bar.classList = 'mpl-message pull-right';\n",
       "    toolbar.appendChild(status_bar);\n",
       "    this.message = status_bar;\n",
       "\n",
       "    // Add the close button to the window.\n",
       "    var buttongrp = document.createElement('div');\n",
       "    buttongrp.classList = 'btn-group inline pull-right';\n",
       "    button = document.createElement('button');\n",
       "    button.classList = 'btn btn-mini btn-primary';\n",
       "    button.href = '#';\n",
       "    button.title = 'Stop Interaction';\n",
       "    button.innerHTML = '<i class=\"fa fa-power-off icon-remove icon-large\"></i>';\n",
       "    button.addEventListener('click', function (_evt) {\n",
       "        fig.handle_close(fig, {});\n",
       "    });\n",
       "    button.addEventListener(\n",
       "        'mouseover',\n",
       "        on_mouseover_closure('Stop Interaction')\n",
       "    );\n",
       "    buttongrp.appendChild(button);\n",
       "    var titlebar = this.root.querySelector('.ui-dialog-titlebar');\n",
       "    titlebar.insertBefore(buttongrp, titlebar.firstChild);\n",
       "};\n",
       "\n",
       "mpl.figure.prototype._remove_fig_handler = function (event) {\n",
       "    var fig = event.data.fig;\n",
       "    if (event.target !== this) {\n",
       "        // Ignore bubbled events from children.\n",
       "        return;\n",
       "    }\n",
       "    fig.close_ws(fig, {});\n",
       "};\n",
       "\n",
       "mpl.figure.prototype._root_extra_style = function (el) {\n",
       "    el.style.boxSizing = 'content-box'; // override notebook setting of border-box.\n",
       "};\n",
       "\n",
       "mpl.figure.prototype._canvas_extra_style = function (el) {\n",
       "    // this is important to make the div 'focusable\n",
       "    el.setAttribute('tabindex', 0);\n",
       "    // reach out to IPython and tell the keyboard manager to turn it's self\n",
       "    // off when our div gets focus\n",
       "\n",
       "    // location in version 3\n",
       "    if (IPython.notebook.keyboard_manager) {\n",
       "        IPython.notebook.keyboard_manager.register_events(el);\n",
       "    } else {\n",
       "        // location in version 2\n",
       "        IPython.keyboard_manager.register_events(el);\n",
       "    }\n",
       "};\n",
       "\n",
       "mpl.figure.prototype._key_event_extra = function (event, _name) {\n",
       "    // Check for shift+enter\n",
       "    if (event.shiftKey && event.which === 13) {\n",
       "        this.canvas_div.blur();\n",
       "        // select the cell after this one\n",
       "        var index = IPython.notebook.find_cell_index(this.cell_info[0]);\n",
       "        IPython.notebook.select(index + 1);\n",
       "    }\n",
       "};\n",
       "\n",
       "mpl.figure.prototype.handle_save = function (fig, _msg) {\n",
       "    fig.ondownload(fig, null);\n",
       "};\n",
       "\n",
       "mpl.find_output_cell = function (html_output) {\n",
       "    // Return the cell and output element which can be found *uniquely* in the notebook.\n",
       "    // Note - this is a bit hacky, but it is done because the \"notebook_saving.Notebook\"\n",
       "    // IPython event is triggered only after the cells have been serialised, which for\n",
       "    // our purposes (turning an active figure into a static one), is too late.\n",
       "    var cells = IPython.notebook.get_cells();\n",
       "    var ncells = cells.length;\n",
       "    for (var i = 0; i < ncells; i++) {\n",
       "        var cell = cells[i];\n",
       "        if (cell.cell_type === 'code') {\n",
       "            for (var j = 0; j < cell.output_area.outputs.length; j++) {\n",
       "                var data = cell.output_area.outputs[j];\n",
       "                if (data.data) {\n",
       "                    // IPython >= 3 moved mimebundle to data attribute of output\n",
       "                    data = data.data;\n",
       "                }\n",
       "                if (data['text/html'] === html_output) {\n",
       "                    return [cell, data, j];\n",
       "                }\n",
       "            }\n",
       "        }\n",
       "    }\n",
       "};\n",
       "\n",
       "// Register the function which deals with the matplotlib target/channel.\n",
       "// The kernel may be null if the page has been refreshed.\n",
       "if (IPython.notebook.kernel !== null) {\n",
       "    IPython.notebook.kernel.comm_manager.register_target(\n",
       "        'matplotlib',\n",
       "        mpl.mpl_figure_comm\n",
       "    );\n",
       "}\n"
      ],
      "text/plain": [
       "<IPython.core.display.Javascript object>"
      ]
     },
     "metadata": {},
     "output_type": "display_data"
    },
    {
     "data": {
      "text/html": [
       "<img src=\"data:image/png;base64,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\" width=\"600\">"
      ],
      "text/plain": [
       "<IPython.core.display.HTML object>"
      ]
     },
     "metadata": {},
     "output_type": "display_data"
    }
   ],
   "source": [
    "fig, ax = plt.subplots(figsize=(6, 6))\n",
    "fig = interaction_plot(\n",
    "    x=df1.Regime,\n",
    "    trace=df1.Gender,\n",
    "    response=df1.Weight_Loss_Gain,\n",
    "    colors=[\"red\", \"blue\"],\n",
    "    markers=[\"D\", \"^\"],\n",
    "    ms=10,\n",
    "    ax=ax,\n",
    ")"
   ]
  },
  {
   "cell_type": "code",
   "execution_count": null,
   "id": "e9379208",
   "metadata": {},
   "outputs": [],
   "source": []
  }
 ],
 "metadata": {
  "kernelspec": {
   "display_name": "Python 3 (ipykernel)",
   "language": "python",
   "name": "python3"
  },
  "language_info": {
   "codemirror_mode": {
    "name": "ipython",
    "version": 3
   },
   "file_extension": ".py",
   "mimetype": "text/x-python",
   "name": "python",
   "nbconvert_exporter": "python",
   "pygments_lexer": "ipython3",
   "version": "3.9.7"
  }
 },
 "nbformat": 4,
 "nbformat_minor": 5
}
