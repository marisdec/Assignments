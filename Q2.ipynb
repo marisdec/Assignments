{
 "cells": [
  {
   "cell_type": "markdown",
   "id": "06d0c018",
   "metadata": {},
   "source": [
    "# Q2"
   ]
  },
  {
   "cell_type": "markdown",
   "id": "cdabea2f",
   "metadata": {},
   "source": [
    "# a)"
   ]
  },
  {
   "cell_type": "code",
   "execution_count": null,
   "id": "849b8177",
   "metadata": {},
   "outputs": [],
   "source": [
    "Hierarchical clustering builds a hierarchy of clusters without prespecifying the number of clusters based on similarity score. \n",
    "\n",
    "\n",
    "a) Hierarchical clustering is useful for Customer Segmentation where customers can be segmented using demographic or income or purchasing patterns\n",
    "Social Network Analysis to understand the dynamics of individuals and groups based on their interests \n",
    "and access to information available.\n",
    "\n",
    "b) Arranging Genomic Data into meaningful biological structures based on a common characteristic\n",
    "City Planning Clustering ensures a commercial zone is not within an industrial zone, or a residential area is not \n",
    "within an industrial zone.\n",
    "\n",
    "\n",
    "c) Hierarchical Clustering is either bottom-up, referred to as Agglomerative clustering, or Divisive, which uses a top-down approach."
   ]
  }
 ],
 "metadata": {
  "kernelspec": {
   "display_name": "Python 3 (ipykernel)",
   "language": "python",
   "name": "python3"
  },
  "language_info": {
   "codemirror_mode": {
    "name": "ipython",
    "version": 3
   },
   "file_extension": ".py",
   "mimetype": "text/x-python",
   "name": "python",
   "nbconvert_exporter": "python",
   "pygments_lexer": "ipython3",
   "version": "3.9.7"
  }
 },
 "nbformat": 4,
 "nbformat_minor": 5
}
